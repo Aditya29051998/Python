{
  "nbformat": 4,
  "nbformat_minor": 0,
  "metadata": {
    "colab": {
      "provenance": [],
      "authorship_tag": "ABX9TyPsPCufNq80IOlyP4fZmcGg",
      "include_colab_link": true
    },
    "kernelspec": {
      "name": "python3",
      "display_name": "Python 3"
    },
    "language_info": {
      "name": "python"
    }
  },
  "cells": [
    {
      "cell_type": "markdown",
      "metadata": {
        "id": "view-in-github",
        "colab_type": "text"
      },
      "source": [
        "<a href=\"https://colab.research.google.com/github/Aditya29051998/Python/blob/main/RBR_Python_Notes.ipynb\" target=\"_parent\"><img src=\"https://colab.research.google.com/assets/colab-badge.svg\" alt=\"Open In Colab\"/></a>"
      ]
    },
    {
      "cell_type": "markdown",
      "source": [
        "Print Statement in Python"
      ],
      "metadata": {
        "id": "fzH9OjdFRCbJ"
      }
    },
    {
      "cell_type": "code",
      "execution_count": null,
      "metadata": {
        "colab": {
          "base_uri": "https://localhost:8080/"
        },
        "id": "2FrPzo-RQqUm",
        "outputId": "ab7d4dc1-523f-472d-b116-5086785f9dd2"
      },
      "outputs": [
        {
          "output_type": "stream",
          "name": "stdout",
          "text": [
            "Hello World\n"
          ]
        }
      ],
      "source": [
        "print(\"Hello World\")"
      ]
    },
    {
      "cell_type": "markdown",
      "source": [
        "String Mainupulation In python"
      ],
      "metadata": {
        "id": "-YXC8sEnRYxJ"
      }
    },
    {
      "cell_type": "code",
      "source": [
        "print(\"Hello World\")\n",
        "print(\"Hello World\")\n",
        "print(\"Hello World\")"
      ],
      "metadata": {
        "colab": {
          "base_uri": "https://localhost:8080/"
        },
        "id": "EABE9dDiQ8Mp",
        "outputId": "f36fc293-c706-4d18-85c0-6107ad5a5503"
      },
      "execution_count": null,
      "outputs": [
        {
          "output_type": "stream",
          "name": "stdout",
          "text": [
            "Hello World\n",
            "Hello World\n",
            "Hello World\n"
          ]
        }
      ]
    },
    {
      "cell_type": "code",
      "source": [
        "print(\"Hello World\\nHello World\\nHello World\")"
      ],
      "metadata": {
        "colab": {
          "base_uri": "https://localhost:8080/"
        },
        "id": "MBxuXtLjSBf4",
        "outputId": "dee3c021-b09f-4fde-ec8a-574cae4e2958"
      },
      "execution_count": null,
      "outputs": [
        {
          "output_type": "stream",
          "name": "stdout",
          "text": [
            "Hello World\n",
            "Hello World\n",
            "Hello World\n"
          ]
        }
      ]
    },
    {
      "cell_type": "markdown",
      "source": [
        "String Concatination"
      ],
      "metadata": {
        "id": "WF93b95bSN_8"
      }
    },
    {
      "cell_type": "code",
      "source": [
        "print(\"Hello\"+\" \"+\"Aditya\")"
      ],
      "metadata": {
        "colab": {
          "base_uri": "https://localhost:8080/"
        },
        "id": "i1Gh0LFlSQ3j",
        "outputId": "1d86201d-d782-4d45-f95d-f966aba00546"
      },
      "execution_count": null,
      "outputs": [
        {
          "output_type": "stream",
          "name": "stdout",
          "text": [
            "Hello Aditya\n"
          ]
        }
      ]
    },
    {
      "cell_type": "markdown",
      "source": [
        "Taking input from terminal"
      ],
      "metadata": {
        "id": "Srz9ZEe0Ssnr"
      }
    },
    {
      "cell_type": "code",
      "source": [
        "input(\"What is your name\")"
      ],
      "metadata": {
        "colab": {
          "base_uri": "https://localhost:8080/",
          "height": 52
        },
        "id": "oOoXUzwDSxvH",
        "outputId": "a890d1cb-d7b9-4f0e-b4fe-b171b1d12d08"
      },
      "execution_count": null,
      "outputs": [
        {
          "name": "stdout",
          "output_type": "stream",
          "text": [
            "What is your nameAditya\n"
          ]
        },
        {
          "output_type": "execute_result",
          "data": {
            "text/plain": [
              "'Aditya'"
            ],
            "application/vnd.google.colaboratory.intrinsic+json": {
              "type": "string"
            }
          },
          "metadata": {},
          "execution_count": 7
        }
      ]
    },
    {
      "cell_type": "code",
      "source": [
        "print(\"Helo\"+input(\"What is your name\"))"
      ],
      "metadata": {
        "colab": {
          "base_uri": "https://localhost:8080/"
        },
        "id": "AfEZt8CGTJDh",
        "outputId": "b9bffdba-647a-40e4-fe0f-c5e803f9aa2a"
      },
      "execution_count": null,
      "outputs": [
        {
          "output_type": "stream",
          "name": "stdout",
          "text": [
            "What is your nameNikhil\n",
            "HeloNikhil\n"
          ]
        }
      ]
    },
    {
      "cell_type": "markdown",
      "source": [
        "Video-6 Len Function"
      ],
      "metadata": {
        "id": "_m7xcngJTax-"
      }
    },
    {
      "cell_type": "code",
      "source": [
        "#How to comment statements in python"
      ],
      "metadata": {
        "id": "X-anVnu7TUDC"
      },
      "execution_count": null,
      "outputs": []
    },
    {
      "cell_type": "code",
      "source": [
        "print(len(\"Aditya\"))"
      ],
      "metadata": {
        "colab": {
          "base_uri": "https://localhost:8080/"
        },
        "id": "PK1wfwxeUD1p",
        "outputId": "f8cd302c-27b1-4121-e9bf-e496f7006c39"
      },
      "execution_count": null,
      "outputs": [
        {
          "output_type": "stream",
          "name": "stdout",
          "text": [
            "6\n"
          ]
        }
      ]
    },
    {
      "cell_type": "code",
      "source": [
        "print(len(input(\"what is your name :\")))"
      ],
      "metadata": {
        "colab": {
          "base_uri": "https://localhost:8080/"
        },
        "id": "VQzWHNQ2UZuZ",
        "outputId": "b78d67b4-dea7-47ce-a29d-cc441927d17f"
      },
      "execution_count": null,
      "outputs": [
        {
          "output_type": "stream",
          "name": "stdout",
          "text": [
            "what is your name :chiki\n",
            "5\n"
          ]
        }
      ]
    },
    {
      "cell_type": "markdown",
      "source": [
        "Video7 Python Variables"
      ],
      "metadata": {
        "id": "MTUIsKgdU2tK"
      }
    },
    {
      "cell_type": "markdown",
      "source": [
        "Variable is a name tag given to a memory\n",
        "# *Python is a dynamically typed language it can change the type of the variable dynamicaly"
      ],
      "metadata": {
        "id": "fpXyxoPUnxo3"
      }
    },
    {
      "cell_type": "code",
      "source": [
        "name=input (\"Enter Your name :\")\n",
        "length=len(name)\n",
        "print(length)"
      ],
      "metadata": {
        "id": "DThNSXCZUiOt",
        "colab": {
          "base_uri": "https://localhost:8080/"
        },
        "outputId": "0ddc8779-1784-4a1e-c212-3f2f64264956"
      },
      "execution_count": null,
      "outputs": [
        {
          "output_type": "stream",
          "name": "stdout",
          "text": [
            "Enter Your name :Aditya\n",
            "6\n"
          ]
        }
      ]
    },
    {
      "cell_type": "code",
      "source": [
        "name=input (\"Enter Your name :\")\n",
        "length=len(name)\n",
        "print(length)\n",
        "name=100\n",
        "print(name)\n",
        "name=1.52\n",
        "print(name)\n",
        "#same variable can store different types of data"
      ],
      "metadata": {
        "colab": {
          "base_uri": "https://localhost:8080/"
        },
        "id": "iUu3wEO6omXz",
        "outputId": "b4f1469f-13eb-4200-c905-9cb4c13a970c"
      },
      "execution_count": null,
      "outputs": [
        {
          "output_type": "stream",
          "name": "stdout",
          "text": [
            "Enter Your name :ad\n",
            "2\n",
            "100\n",
            "1.52\n"
          ]
        }
      ]
    },
    {
      "cell_type": "markdown",
      "source": [
        "Video-8: Swaping of two number\n",
        "Variable naming rules-https://www.w3schools.com/python/gloss_python_variable_names.asp"
      ],
      "metadata": {
        "id": "y9pmKiwapGBZ"
      }
    },
    {
      "cell_type": "code",
      "source": [
        "a=input(\"Enter a:\")\n",
        "b=input(\"Enter b:\")\n",
        "temp=a\n",
        "a=b\n",
        "b=temp\n",
        "print(\"a value is \",a)\n",
        "print(\"b value is \",b)\n"
      ],
      "metadata": {
        "colab": {
          "base_uri": "https://localhost:8080/"
        },
        "id": "DWba3-g-pC9a",
        "outputId": "bca4a10c-81d0-4b13-cdd6-8b2eb8d12b78"
      },
      "execution_count": null,
      "outputs": [
        {
          "output_type": "stream",
          "name": "stdout",
          "text": [
            "Enter a:10\n",
            "Enter b:20\n",
            "a value is  20\n",
            "b value is  10\n"
          ]
        }
      ]
    },
    {
      "cell_type": "markdown",
      "source": [
        "Video9:Example"
      ],
      "metadata": {
        "id": "1A_UOM4zp5uC"
      }
    },
    {
      "cell_type": "code",
      "source": [
        "print(\"__Wlcome to petshop name generator__\")\n",
        "city=input(\"Which city you grow up ?\\n\") #\\n used for get output in new line\n",
        "pet_name=input(\"What is your pet name ?\\n\")\n",
        "Pet_shop_name=city+\" \"+pet_name\n",
        "print(\"Your pet sop name is : \",Pet_shop_name)"
      ],
      "metadata": {
        "colab": {
          "base_uri": "https://localhost:8080/"
        },
        "id": "Um_GnXkVqIeK",
        "outputId": "6eef9e44-1b7c-49ec-fa41-d99c89cbe40a"
      },
      "execution_count": null,
      "outputs": [
        {
          "output_type": "stream",
          "name": "stdout",
          "text": [
            "__Wlcome to petshop name generator__\n",
            "Which city you grow up ?\n",
            "BBSR\n",
            "What is your pet name ?\n",
            "Ad\n",
            "Your pet sop name is :  BBSR Ad\n"
          ]
        }
      ]
    },
    {
      "cell_type": "markdown",
      "source": [
        "Video:10: Primitive Data type"
      ],
      "metadata": {
        "id": "6TZQOwfTrWPD"
      }
    },
    {
      "cell_type": "code",
      "source": [
        "print(\"Aditya\"[0]) #subscripting\n",
        "print(\"Aditya\"[4])\n",
        "print(\"Aditya\"[-1]) #Negative subscripting\n",
        "print(\"Aditya\"[-4])"
      ],
      "metadata": {
        "colab": {
          "base_uri": "https://localhost:8080/"
        },
        "id": "_a31ZS1nrV75",
        "outputId": "e3ffbaf4-5466-4560-f828-ffc00e507a20"
      },
      "execution_count": null,
      "outputs": [
        {
          "output_type": "stream",
          "name": "stdout",
          "text": [
            "A\n",
            "y\n",
            "a\n",
            "i\n"
          ]
        }
      ]
    },
    {
      "cell_type": "code",
      "source": [
        "print(\"123\" + \"456\") # String Concatination"
      ],
      "metadata": {
        "colab": {
          "base_uri": "https://localhost:8080/"
        },
        "id": "mxVB-WbIsHpE",
        "outputId": "db5c940d-59c6-4a65-e2d4-63b066d67fa6"
      },
      "execution_count": null,
      "outputs": [
        {
          "output_type": "stream",
          "name": "stdout",
          "text": [
            "123456\n"
          ]
        }
      ]
    },
    {
      "cell_type": "markdown",
      "source": [
        "Video:11 Type Error"
      ],
      "metadata": {
        "id": "hFfB5GsEsk7H"
      }
    },
    {
      "cell_type": "code",
      "source": [
        "print(len(1234)) #number cant not used len"
      ],
      "metadata": {
        "id": "zi27boq0sp7d",
        "colab": {
          "base_uri": "https://localhost:8080/",
          "height": 176
        },
        "outputId": "1fcd9582-3f6a-4195-ac86-49498dcba30d"
      },
      "execution_count": null,
      "outputs": [
        {
          "output_type": "error",
          "ename": "TypeError",
          "evalue": "object of type 'int' has no len()",
          "traceback": [
            "\u001b[0;31m---------------------------------------------------------------------------\u001b[0m",
            "\u001b[0;31mTypeError\u001b[0m                                 Traceback (most recent call last)",
            "\u001b[0;32m<ipython-input-1-9e560b188662>\u001b[0m in \u001b[0;36m<cell line: 1>\u001b[0;34m()\u001b[0m\n\u001b[0;32m----> 1\u001b[0;31m \u001b[0mprint\u001b[0m\u001b[0;34m(\u001b[0m\u001b[0mlen\u001b[0m\u001b[0;34m(\u001b[0m\u001b[0;36m1234\u001b[0m\u001b[0;34m)\u001b[0m\u001b[0;34m)\u001b[0m\u001b[0;34m\u001b[0m\u001b[0;34m\u001b[0m\u001b[0m\n\u001b[0m",
            "\u001b[0;31mTypeError\u001b[0m: object of type 'int' has no len()"
          ]
        }
      ]
    },
    {
      "cell_type": "code",
      "source": [
        "num_char=len(input(\"Enter Your name :\"))\n",
        "print(\"Your name has\" +num_char+ \"Charecters\")"
      ],
      "metadata": {
        "colab": {
          "base_uri": "https://localhost:8080/",
          "height": 211
        },
        "id": "rtUoLEKOdTR1",
        "outputId": "31244517-783e-453f-bedd-363bfd9bda83"
      },
      "execution_count": null,
      "outputs": [
        {
          "name": "stdout",
          "output_type": "stream",
          "text": [
            "Enter Your name :ad\n"
          ]
        },
        {
          "output_type": "error",
          "ename": "TypeError",
          "evalue": "can only concatenate str (not \"int\") to str",
          "traceback": [
            "\u001b[0;31m---------------------------------------------------------------------------\u001b[0m",
            "\u001b[0;31mTypeError\u001b[0m                                 Traceback (most recent call last)",
            "\u001b[0;32m<ipython-input-2-8512798a107f>\u001b[0m in \u001b[0;36m<cell line: 2>\u001b[0;34m()\u001b[0m\n\u001b[1;32m      1\u001b[0m \u001b[0mnum_char\u001b[0m\u001b[0;34m=\u001b[0m\u001b[0mlen\u001b[0m\u001b[0;34m(\u001b[0m\u001b[0minput\u001b[0m\u001b[0;34m(\u001b[0m\u001b[0;34m\"Enter Your name :\"\u001b[0m\u001b[0;34m)\u001b[0m\u001b[0;34m)\u001b[0m\u001b[0;34m\u001b[0m\u001b[0;34m\u001b[0m\u001b[0m\n\u001b[0;32m----> 2\u001b[0;31m \u001b[0mprint\u001b[0m\u001b[0;34m(\u001b[0m\u001b[0;34m\"Your name has\"\u001b[0m \u001b[0;34m+\u001b[0m\u001b[0mnum_char\u001b[0m\u001b[0;34m+\u001b[0m \u001b[0;34m\"Charecters\"\u001b[0m\u001b[0;34m)\u001b[0m\u001b[0;34m\u001b[0m\u001b[0;34m\u001b[0m\u001b[0m\n\u001b[0m",
            "\u001b[0;31mTypeError\u001b[0m: can only concatenate str (not \"int\") to str"
          ]
        }
      ]
    },
    {
      "cell_type": "code",
      "source": [
        "num_char=len(input(\"Enter Your name :\"))\n",
        "new_num_char =str(num_char)  #Typecasting\n",
        "print(type(new_num_char))\n",
        "print(\"Your name has\" +new_num_char+ \"Charecters\")"
      ],
      "metadata": {
        "colab": {
          "base_uri": "https://localhost:8080/"
        },
        "id": "o692I3O-dqNz",
        "outputId": "ae00877e-0e39-4d2e-cfa3-6360e52335a6"
      },
      "execution_count": null,
      "outputs": [
        {
          "output_type": "stream",
          "name": "stdout",
          "text": [
            "Enter Your name :ad\n",
            "<class 'str'>\n",
            "Your name has2Charecters\n"
          ]
        }
      ]
    },
    {
      "cell_type": "code",
      "source": [
        "print(str(100)+ str(200))"
      ],
      "metadata": {
        "colab": {
          "base_uri": "https://localhost:8080/"
        },
        "id": "Ur30hZt5eb3I",
        "outputId": "46717079-656b-40ff-93a2-46c34ab254ac"
      },
      "execution_count": null,
      "outputs": [
        {
          "output_type": "stream",
          "name": "stdout",
          "text": [
            "100200\n"
          ]
        }
      ]
    },
    {
      "cell_type": "markdown",
      "source": [
        "Video_12 Example"
      ],
      "metadata": {
        "id": "yoS4mfqGekPQ"
      }
    },
    {
      "cell_type": "code",
      "source": [
        "two_digit_number = input(\"Enter a two digit number:\")\n",
        "print(type(two_digit_number))\n",
        "first_digit= two_digit_number[0]\n",
        "second_digit= two_digit_number[1]\n",
        "result =first_digit + second_digit\n",
        "print(result)"
      ],
      "metadata": {
        "colab": {
          "base_uri": "https://localhost:8080/"
        },
        "id": "ueDTs-DTei2V",
        "outputId": "2afab6c7-5dbe-4a23-9587-be378eae4638"
      },
      "execution_count": null,
      "outputs": [
        {
          "output_type": "stream",
          "name": "stdout",
          "text": [
            "Enter a two digit number:27\n",
            "<class 'str'>\n",
            "27\n"
          ]
        }
      ]
    },
    {
      "cell_type": "code",
      "source": [
        "two_digit_number = input(\"Enter a two digit number:\")\n",
        "print(type(two_digit_number))\n",
        "first_digit= int(two_digit_number[0])\n",
        "second_digit= int(two_digit_number[1])\n",
        "result =first_digit + second_digit\n",
        "print(result)"
      ],
      "metadata": {
        "colab": {
          "base_uri": "https://localhost:8080/"
        },
        "id": "bnT06HUHfcuH",
        "outputId": "b788b422-2053-4d90-8ec1-3e692337e353"
      },
      "execution_count": null,
      "outputs": [
        {
          "output_type": "stream",
          "name": "stdout",
          "text": [
            "Enter a two digit number:27\n",
            "<class 'str'>\n",
            "9\n"
          ]
        }
      ]
    },
    {
      "cell_type": "markdown",
      "source": [
        "Video_13 Type of operator\n",
        "https://www.geeksforgeeks.org/precedence-and-associativity-of-operators-in-python/"
      ],
      "metadata": {
        "id": "LDriGxdOf1qO"
      }
    },
    {
      "cell_type": "markdown",
      "source": [
        "Video_14 BMI Calculator"
      ],
      "metadata": {
        "id": "JvdijXHOg6dj"
      }
    },
    {
      "cell_type": "code",
      "source": [
        "height = float(input(\"Enter your Height :\"))\n",
        "Weight = int(input(\"Enter your Wight :\"))\n",
        "BMI = Weight/(height**2)\n",
        "int_BMI = int(BMI)\n",
        "print(int_BMI)"
      ],
      "metadata": {
        "colab": {
          "base_uri": "https://localhost:8080/"
        },
        "id": "4IyFCOdNfqLp",
        "outputId": "29dd6e8a-210e-47e5-ff8e-94f525785257"
      },
      "execution_count": null,
      "outputs": [
        {
          "output_type": "stream",
          "name": "stdout",
          "text": [
            "Enter your Height :1.7\n",
            "Enter your Wight :75\n",
            "25\n"
          ]
        }
      ]
    },
    {
      "cell_type": "markdown",
      "source": [
        "Video_15"
      ],
      "metadata": {
        "id": "RRsCutf8i-LD"
      }
    },
    {
      "cell_type": "code",
      "source": [
        "print(8/3)\n",
        "print(int(8/3))\n",
        "print(round(8/3)) # This is inbulit function which will round off the float value\n",
        "print(8 // 3) # Float division it will give int output\n"
      ],
      "metadata": {
        "colab": {
          "base_uri": "https://localhost:8080/"
        },
        "id": "hB17DYIMjPtt",
        "outputId": "b13c2641-0700-41b1-b202-b1c1942ef1fd"
      },
      "execution_count": null,
      "outputs": [
        {
          "output_type": "stream",
          "name": "stdout",
          "text": [
            "2.6666666666666665\n",
            "2\n",
            "3\n",
            "2\n"
          ]
        }
      ]
    },
    {
      "cell_type": "markdown",
      "source": [
        "Video_16. f string"
      ],
      "metadata": {
        "id": "Lph66KdekUOG"
      }
    },
    {
      "cell_type": "code",
      "source": [
        "score =0\n",
        "height = 1.5\n",
        "iswining =True\n",
        "print(f\"Your Score is {score}, Your height is {height} ,Your iswining is {iswining}\")   # f is used to convert any type of operator into stinrg it is a very useful tool"
      ],
      "metadata": {
        "colab": {
          "base_uri": "https://localhost:8080/"
        },
        "id": "eXeJ5aJ6kGwO",
        "outputId": "e690ed6f-4381-43c5-c866-53c7b00cbf40"
      },
      "execution_count": null,
      "outputs": [
        {
          "output_type": "stream",
          "name": "stdout",
          "text": [
            "Your Score is 0, Your height is 1.5 ,Your iswining is True\n"
          ]
        }
      ]
    },
    {
      "cell_type": "markdown",
      "source": [
        "Video_17 Calculate Life in weeks"
      ],
      "metadata": {
        "id": "-lvQegA9lvaP"
      }
    },
    {
      "cell_type": "code",
      "source": [
        "age = input(\"Enter your age :\")\n",
        "age_as_int = int(age)\n",
        "Year_remaining = 90 - age_as_int\n",
        "weeks_remaining = Year_remaining * 52\n",
        "Months_remaining = Year_remaining * 12\n",
        "Days_remaining = Year_remaining * 365\n",
        "print(Days_remaining)\n",
        "print(f\" You have {Year_remaining} years,months {Months_remaining},days{Days_remaining}\")"
      ],
      "metadata": {
        "colab": {
          "base_uri": "https://localhost:8080/"
        },
        "id": "Tgd6-INjmadc",
        "outputId": "b733a8f2-62b1-4202-a01c-2ab0588d4e78"
      },
      "execution_count": null,
      "outputs": [
        {
          "output_type": "stream",
          "name": "stdout",
          "text": [
            "Enter your age :25\n",
            "23725\n",
            " You have 65 years,months 780,days23725\n"
          ]
        }
      ]
    },
    {
      "cell_type": "code",
      "source": [
        "#Calculating a bill\n",
        "#if the bill was rs 150 , split between 5 people ,with 12% tip\n",
        "# Each person should pay (150/5)*1.12 =33.6\n",
        "#Round the result to decimal places = 33.60\n",
        "print(\"---Welcome to the bill calculator---\")\n",
        "bill = float(input(\"Enter the bill ammount :\"))\n",
        "Person = int(input(\"Enter number of persons :\"))\n",
        "tip = float(input(\"Enter a tip Ammount :\"))\n",
        "tip_percentage = tip/100\n",
        "bill_with_tip = bill * tip_percentage\n",
        "total_bill = bill + bill_with_tip\n",
        "Bill_per_Person = (total_bill / Person)\n",
        "final = round(Bill_per_Person, 2)\n",
        "print(Bill_per_Person)\n",
        "print(final)"
      ],
      "metadata": {
        "colab": {
          "base_uri": "https://localhost:8080/"
        },
        "id": "7kLNAlc5oLlS",
        "outputId": "105e72b0-5918-4e49-9165-e971c883d0dc"
      },
      "execution_count": null,
      "outputs": [
        {
          "output_type": "stream",
          "name": "stdout",
          "text": [
            "---Welcome to the bill calculator---\n",
            "Enter the bill ammount :150\n",
            "Enter number of persons :6\n",
            "Enter a tip Ammount :12\n",
            "28.0\n",
            "28.0\n"
          ]
        }
      ]
    },
    {
      "cell_type": "markdown",
      "source": [
        "Video_18\n",
        "if and else"
      ],
      "metadata": {
        "id": "dAoa7g2Hr-Vy"
      }
    },
    {
      "cell_type": "code",
      "source": [
        "a=10\n",
        "b =200\n",
        "if b>a:\n",
        "     print(\"b is greater then a\")\n",
        "\n",
        "else:\n",
        "     print(\"a is greater\")"
      ],
      "metadata": {
        "colab": {
          "base_uri": "https://localhost:8080/"
        },
        "id": "H7TSwrrKdm4r",
        "outputId": "fb724baf-647f-49a9-bd1c-1a36e262fa45"
      },
      "execution_count": null,
      "outputs": [
        {
          "output_type": "stream",
          "name": "stdout",
          "text": [
            "b is greater then a\n"
          ]
        }
      ]
    },
    {
      "cell_type": "code",
      "source": [
        "#Program to roller coster ride\n",
        "print(\"---Welcome to roller coster---\")\n",
        "height=int(input(\"What is your height in cm: \"))\n",
        "\n",
        "if height >= 120:\n",
        "   print(\"You can ride a roller coaster\")\n",
        "   age =int(input(\"Whats your age:\"))\n",
        "   if age <= 12:\n",
        "    print(\"Please pay RS.20\")\n",
        "   elif age <=18 :\n",
        "    print(\"please Pay RS.50\")\n",
        "   else:\n",
        "    print(\"please pay Rs.100\")\n",
        "else:\n",
        "   print(\"Sorry grow taller before you ride\")"
      ],
      "metadata": {
        "id": "RIkS545fepjx",
        "colab": {
          "base_uri": "https://localhost:8080/"
        },
        "outputId": "9b01365a-d3ff-4bc4-801d-3e53122f74cd"
      },
      "execution_count": null,
      "outputs": [
        {
          "output_type": "stream",
          "name": "stdout",
          "text": [
            "---Welcome to roller coster---\n",
            "What is your height in cm: 126\n",
            "You can ride a roller coaster\n",
            "Whats your age:17\n",
            "please Pay RS.50\n"
          ]
        }
      ]
    },
    {
      "cell_type": "markdown",
      "source": [
        "Lets See Multiple IF"
      ],
      "metadata": {
        "id": "5fYdqGtEfVi2"
      }
    },
    {
      "cell_type": "code",
      "source": [
        "#Program to roller coster ride\n",
        "print(\"---Welcome to roller coster---\")\n",
        "height=int(input(\"What is your height in cm: \"))\n",
        "bill = 0\n",
        "if height >= 120:\n",
        "   print(\"You can ride a roller coaster\")\n",
        "   age =int(input(\"Whats your age:\"))\n",
        "   if age <= 12:\n",
        "    bill = 20\n",
        "    print(\"Please pay RS.20\")\n",
        "   elif age <=18 :\n",
        "    bill = 50\n",
        "    print(\"please Pay RS.50\")\n",
        "   else:\n",
        "    bill = 100\n",
        "    print(\"please pay Rs.100\")\n",
        "   Wants_Photo = input(\"Do You want photo :\")\n",
        "   if Wants_Photo == \"Y\":\n",
        "    bill += 10\n",
        "   print(f\"Your Final bill is {bill}\")\n",
        "else:\n",
        "   print(\"Sorry grow taller before you ride\")"
      ],
      "metadata": {
        "colab": {
          "base_uri": "https://localhost:8080/"
        },
        "id": "L1t7CuDAfcJw",
        "outputId": "3f9d801c-aedf-43e0-a122-f23d0ed1c80f"
      },
      "execution_count": null,
      "outputs": [
        {
          "output_type": "stream",
          "name": "stdout",
          "text": [
            "---Welcome to roller coster---\n",
            "What is your height in cm: 145\n",
            "You can ride a roller coaster\n",
            "Whats your age:25\n",
            "please pay Rs.100\n",
            "Do You want photo :Y\n",
            "Your Final bill is 110\n"
          ]
        }
      ]
    },
    {
      "cell_type": "markdown",
      "source": [
        "Video_19"
      ],
      "metadata": {
        "id": "fG4S4Hj8iwrJ"
      }
    },
    {
      "cell_type": "code",
      "source": [
        "number = int(input(\"Enter a number :\"))\n",
        "\n",
        "if number % 2 == 0:\n",
        "  print(\"Its a even number \")\n",
        "else:\n",
        "  print(\"Its a odd number\")"
      ],
      "metadata": {
        "colab": {
          "base_uri": "https://localhost:8080/"
        },
        "id": "IX3jlviziu6e",
        "outputId": "ad13e6e2-d081-4f0f-c105-e105860ee0cb"
      },
      "execution_count": null,
      "outputs": [
        {
          "output_type": "stream",
          "name": "stdout",
          "text": [
            "Enter a number :6\n",
            "Its a even number \n"
          ]
        }
      ]
    },
    {
      "cell_type": "code",
      "source": [
        "height = float(input(\"Enter your height in m:\"))\n",
        "weight = float(input(\"Enter your weight in kg:\"))\n",
        "bmi = round(weight /(height **2))\n",
        "#print(bmi)\n",
        "if bmi < 18.5:\n",
        "  print(f\"Your bmi is {bmi} , You are under weight\")\n",
        "elif bmi < 25 :\n",
        "  print(f\"Your bmi is {bmi} , You are Healthy\")\n",
        "elif bmi < 30:\n",
        "  print(f\"Your bmi is {bmi} , You are over weight\")\n",
        "elif bmi < 35 :\n",
        "  print(f\"Your bmi is {bmi} , You are over obese\")\n",
        "else:\n",
        "   print(f\"Your bmi is {bmi} , You are over  Critical obese\")"
      ],
      "metadata": {
        "colab": {
          "base_uri": "https://localhost:8080/"
        },
        "id": "BxmttQiKjPgC",
        "outputId": "9347383c-26e5-4efb-8a5f-a90d9f84a428"
      },
      "execution_count": null,
      "outputs": [
        {
          "output_type": "stream",
          "name": "stdout",
          "text": [
            "Enter your height in m:1.646\n",
            "Enter your weight in kg:66\n",
            "Your bmi is 24 , You are Healthy\n"
          ]
        }
      ]
    },
    {
      "cell_type": "markdown",
      "source": [
        "Leap Year Program"
      ],
      "metadata": {
        "id": "TAOHjs9JmEWA"
      }
    },
    {
      "cell_type": "code",
      "source": [
        "Year = int(input(\"Enter a Year :\"))\n",
        "if Year%4 ==0:\n",
        "  if Year%100 ==0:\n",
        "    if Year%400 ==0:\n",
        "      print(\"Its a leap year\")\n",
        "    else:\n",
        "      print(\"Its not a leap Year\")\n",
        "  else:\n",
        "     print(\"Its a leap year\")\n",
        "else:\n",
        "  print(\"Its not a leap year\")"
      ],
      "metadata": {
        "colab": {
          "base_uri": "https://localhost:8080/"
        },
        "id": "2r37s52TmHUX",
        "outputId": "32aaeecf-71c1-4405-ff45-5f6ffed66d02"
      },
      "execution_count": null,
      "outputs": [
        {
          "output_type": "stream",
          "name": "stdout",
          "text": [
            "Enter a Year :2024\n",
            "Its a leap year\n"
          ]
        }
      ]
    },
    {
      "cell_type": "markdown",
      "source": [
        "Pizza Delivery"
      ],
      "metadata": {
        "id": "vYoucTuCn_2e"
      }
    },
    {
      "cell_type": "code",
      "source": [
        "print(\"---Wlcome to pizza deliveries---\")\n",
        "size = input(\"What is the size ofthe pizza you want : S,M or L :\")\n",
        "add_peporoni = input(\"Do you want extra peoroni : Y or N :\")\n",
        "extra_cheese =  input(\"Do you want extra cheese : Y or N :\")\n",
        "bill = 0\n",
        "if size == \"S\":\n",
        "  bill =100\n",
        "elif size == \"M\":\n",
        "  bill +=200\n",
        "elif size == \"L\":\n",
        "  bill +=300\n",
        "if add_peporoni == \"Y\":\n",
        "  if size == \"S\":\n",
        "   bill +=20\n",
        "  else:\n",
        "   bill +=30\n",
        "if extra_cheese == \"Y\":\n",
        "  if size == \"S\":\n",
        "   bill +=10\n",
        "  else:\n",
        "   bill +=20\n",
        "print(f\"Your final bill is {bill}rs.\")\n"
      ],
      "metadata": {
        "colab": {
          "base_uri": "https://localhost:8080/"
        },
        "id": "7XVeu44soC4t",
        "outputId": "41eab0ac-43b2-456e-861d-183c0f667f3d"
      },
      "execution_count": null,
      "outputs": [
        {
          "output_type": "stream",
          "name": "stdout",
          "text": [
            "---Wlcome to pizza deliveries---\n",
            "What is the size ofthe pizza you want : S,M or L :S\n",
            "Do you want extra peoroni : Y or N :Y\n",
            "Do you want extra cheese : Y or N :Y\n",
            "Your final bill is 130rs.\n"
          ]
        }
      ]
    },
    {
      "cell_type": "markdown",
      "source": [
        "Video-20:\n",
        "Logica operator ( AND ,OR and NOT are three logical operator used in python)"
      ],
      "metadata": {
        "id": "Asa9-FbgdHaR"
      }
    },
    {
      "cell_type": "code",
      "source": [
        "name1 = input(\"Enter a name :\")\n",
        "name2 = input(\"Enter a name :\")\n",
        "combined_string = name1 + name2\n",
        "lower_case_string = combined_string.lower()\n",
        "t = lower_case_string.count(\"t\")\n",
        "r = lower_case_string.count(\"r\")\n",
        "u = lower_case_string.count(\"u\")\n",
        "e = lower_case_string.count(\"e\")\n",
        "\n",
        "l = lower_case_string.count(\"l\")\n",
        "o = lower_case_string.count(\"o\")\n",
        "v = lower_case_string.count(\"v\")\n",
        "e = lower_case_string.count(\"e\")\n",
        "true = t+r+u+e\n",
        "love = l+o+v+e\n",
        "print(str(true))\n",
        "print(str(love))\n",
        "love_score = int(str(true)+str(love))\n",
        "print(love_score)\n",
        "\n",
        "if (love_score > 90):\n",
        "  print(f\"Your love score is {love_score}, you go together like coke and mentos\")\n",
        "elif (love_score < 90) and (love_score > 60):\n",
        "  print(f\"Your love score is {love_score}, you score is good together\")\n",
        "else:\n",
        "  print(f\"Your love score is {love_score}, Find someone else \")"
      ],
      "metadata": {
        "id": "LODc7zBZb-vd"
      },
      "execution_count": null,
      "outputs": []
    },
    {
      "cell_type": "markdown",
      "source": [
        "video 21:Function in python"
      ],
      "metadata": {
        "id": "i7o-drDYWGn-"
      }
    },
    {
      "cell_type": "code",
      "source": [
        "dir(str)"
      ],
      "metadata": {
        "colab": {
          "base_uri": "https://localhost:8080/"
        },
        "id": "gLkGx7d-i0iI",
        "outputId": "2e941bbc-6837-4834-883b-bd6ebab1c347"
      },
      "execution_count": null,
      "outputs": [
        {
          "output_type": "execute_result",
          "data": {
            "text/plain": [
              "['__add__',\n",
              " '__class__',\n",
              " '__contains__',\n",
              " '__delattr__',\n",
              " '__dir__',\n",
              " '__doc__',\n",
              " '__eq__',\n",
              " '__format__',\n",
              " '__ge__',\n",
              " '__getattribute__',\n",
              " '__getitem__',\n",
              " '__getnewargs__',\n",
              " '__gt__',\n",
              " '__hash__',\n",
              " '__init__',\n",
              " '__init_subclass__',\n",
              " '__iter__',\n",
              " '__le__',\n",
              " '__len__',\n",
              " '__lt__',\n",
              " '__mod__',\n",
              " '__mul__',\n",
              " '__ne__',\n",
              " '__new__',\n",
              " '__reduce__',\n",
              " '__reduce_ex__',\n",
              " '__repr__',\n",
              " '__rmod__',\n",
              " '__rmul__',\n",
              " '__setattr__',\n",
              " '__sizeof__',\n",
              " '__str__',\n",
              " '__subclasshook__',\n",
              " 'capitalize',\n",
              " 'casefold',\n",
              " 'center',\n",
              " 'count',\n",
              " 'encode',\n",
              " 'endswith',\n",
              " 'expandtabs',\n",
              " 'find',\n",
              " 'format',\n",
              " 'format_map',\n",
              " 'index',\n",
              " 'isalnum',\n",
              " 'isalpha',\n",
              " 'isascii',\n",
              " 'isdecimal',\n",
              " 'isdigit',\n",
              " 'isidentifier',\n",
              " 'islower',\n",
              " 'isnumeric',\n",
              " 'isprintable',\n",
              " 'isspace',\n",
              " 'istitle',\n",
              " 'isupper',\n",
              " 'join',\n",
              " 'ljust',\n",
              " 'lower',\n",
              " 'lstrip',\n",
              " 'maketrans',\n",
              " 'partition',\n",
              " 'removeprefix',\n",
              " 'removesuffix',\n",
              " 'replace',\n",
              " 'rfind',\n",
              " 'rindex',\n",
              " 'rjust',\n",
              " 'rpartition',\n",
              " 'rsplit',\n",
              " 'rstrip',\n",
              " 'split',\n",
              " 'splitlines',\n",
              " 'startswith',\n",
              " 'strip',\n",
              " 'swapcase',\n",
              " 'title',\n",
              " 'translate',\n",
              " 'upper',\n",
              " 'zfill']"
            ]
          },
          "metadata": {},
          "execution_count": 11
        }
      ]
    },
    {
      "cell_type": "markdown",
      "source": [
        "Nested If"
      ],
      "metadata": {
        "id": "DJVyvv0C0VV5"
      }
    },
    {
      "cell_type": "code",
      "source": [
        "print(\"Welcopme to Tresure Island\")\n",
        "print(\"Your mission is to find the treasure\")\n",
        "choice1 = input(\"You are at the crossroad,where do you want to go ? Type 'left' or 'right':\").lower()\n",
        "if choice1 == \"left\":\n",
        "  choice2 = input(\"You have come to a lake.There is an island in the middle of the lake.Type 'wait' to wait for a boat.Type 'swim' to swim across:\").lower()\n",
        "  if choice2 == \"wait\":\n",
        "    choice3 = input(\"You arrive at the island unharmed.There is a house with 3 doors.One red,one yellow and one blue.Which colour do you choose?\").lower()\n",
        "    if choice3 == \"red\":\n",
        "      print(\"It's a room full of fire.Game Over.\")\n",
        "    elif choice3 == \"yellow\":\n",
        "      print(\"You found the treasure! You Win!\")\n",
        "    elif choice3 == \"blue\":\n",
        "      print(\"You enter a room of beasts.Game Over.\")\n",
        "    else:\n",
        "      print(\"You chose a door that doesn't exist.Game Over.\")\n",
        "  else:\n",
        "    print(\"You got attacked by an angry trout.Game Over.\")\n",
        "else:\n",
        "  print(\"You fell into the hole.game over\")\n"
      ],
      "metadata": {
        "colab": {
          "base_uri": "https://localhost:8080/"
        },
        "id": "VF_xRsl80Z3Z",
        "outputId": "707a9624-6b56-4883-fa50-3b1f554a0e52"
      },
      "execution_count": null,
      "outputs": [
        {
          "output_type": "stream",
          "name": "stdout",
          "text": [
            "Welcopme to Tresure Island\n",
            "Your mission is to find the treasure\n",
            "You are at the crossroad,where do you want to go ? Type 'left' or 'right':left\n",
            "You have come to a lake.There is an island in the middle of the lake.Type 'wait' to wait for a boat.Type 'swim' to swim across:wait\n",
            "You arrive at the island unharmed.There is a house with 3 doors.One red,one yellow and one blue.Which colour do you choose?yellow\n",
            "You found the treasure! You Win!\n"
          ]
        }
      ]
    },
    {
      "cell_type": "markdown",
      "source": [
        "Vodeo:23\n",
        "Randomization in python"
      ],
      "metadata": {
        "id": "BcToU0lQc7b0"
      }
    },
    {
      "cell_type": "code",
      "source": [
        "import random\n",
        "random_integer = random.randint(1,10) #randint for int\n",
        "random_float = random.random()  #random for float\n",
        "random_float2 = random.random() *5 # To get random numner in range of 5\n",
        "print(random_float)\n",
        "print(random_integer)\n",
        "print(random_float2)"
      ],
      "metadata": {
        "colab": {
          "base_uri": "https://localhost:8080/"
        },
        "id": "LJx5xAEEc856",
        "outputId": "6b5e75aa-4e4d-4101-8737-f32a4e458083"
      },
      "execution_count": null,
      "outputs": [
        {
          "output_type": "stream",
          "name": "stdout",
          "text": [
            "0.9936078678777307\n",
            "9\n",
            "4.056530259923648\n"
          ]
        }
      ]
    },
    {
      "cell_type": "code",
      "source": [
        "import random\n",
        "love_score = random.randint(1,100)\n",
        "print(f\"Your love score is {love_score}\")"
      ],
      "metadata": {
        "colab": {
          "base_uri": "https://localhost:8080/"
        },
        "id": "XsGerP1xfvbk",
        "outputId": "cb045e81-cc25-44dc-a770-1430926e0346"
      },
      "execution_count": null,
      "outputs": [
        {
          "output_type": "stream",
          "name": "stdout",
          "text": [
            "Your love score is 22\n"
          ]
        }
      ]
    },
    {
      "cell_type": "code",
      "source": [
        "import random\n",
        "random_side = random.randint(0,1)\n",
        "if random_side == 1:\n",
        "  print(\"Heads\")\n",
        "else:\n",
        "  print(\"Tails\")\n"
      ],
      "metadata": {
        "colab": {
          "base_uri": "https://localhost:8080/"
        },
        "id": "WaAgMY0EgCiV",
        "outputId": "f71f414d-a361-452c-b8a0-1b899366d5b4"
      },
      "execution_count": null,
      "outputs": [
        {
          "output_type": "stream",
          "name": "stdout",
          "text": [
            "Tails\n"
          ]
        }
      ]
    },
    {
      "cell_type": "markdown",
      "source": [
        "Video24:\n",
        "Data structure in python"
      ],
      "metadata": {
        "id": "bSeT5fuqgoZB"
      }
    },
    {
      "cell_type": "code",
      "source": [
        "#List data stucture\n",
        "names = [\"Aditya\",\"chiki\",\"khusi\",\"Nikhil\",\"gugu\"]\n",
        "print(names)\n",
        "print(names[0]) #Gets first Elemnet\n",
        "print(names[-1]) # Gets Last elemet\n",
        "names[0] = \"gugu\" #Changes the element\n",
        "print(names)\n",
        "names.append(\"isha\") #appeend name in list end\n",
        "print(names)\n",
        "x = names.copy() #copy the list\n",
        "\n",
        "names.clear() #clear the list\n",
        "print(names)\n",
        "print(x)\n",
        "z = x.count(\"gugu\") #count the number of occurance elements in the list\n",
        "print(z)\n",
        "\n",
        "#extend() - The extend method adds the specified list elemeats (or any iterables ) to the end of the current list\n",
        "fruits = ['apple', 'banana', 'cherry']\n",
        "cars = ['Ford', 'BMW', 'Volvo']\n",
        "fruits.extend(cars)\n",
        "print(fruits)\n",
        "\n",
        "#index - The index() method returns the first occurance of specified value\n",
        "x = fruits.index(\"cherry\")\n",
        "print(x)\n",
        "\n",
        "#insert - The insert() method specified value at the specified position\n",
        "fruits.insert(2,\"Mango\")\n",
        "print(fruits)\n",
        "\n",
        "#Pop - This\n",
        "fruits.pop(1)\n",
        "print(fruits)\n",
        "\n",
        "# Remove():It will remove first occurance of a value\n",
        "fruits.remove(\"Mango\")\n",
        "print(fruits)\n",
        "\n",
        "#Reverse() : It will reverse the list\n",
        "fruits.reverse()\n",
        "print(fruits)\n",
        "\n",
        "#Sort() : it will sort alphabetically in accending order\n",
        "fruits.sort()\n",
        "print(fruits)\n",
        "\n",
        "list = [100, 50, 65, 82, 23]\n",
        "list.sort()\n",
        "print(list)"
      ],
      "metadata": {
        "colab": {
          "base_uri": "https://localhost:8080/"
        },
        "id": "F3dfVXsRgoC_",
        "outputId": "70914d0d-2833-4c16-af0a-e28471eb272f"
      },
      "execution_count": null,
      "outputs": [
        {
          "output_type": "stream",
          "name": "stdout",
          "text": [
            "['Aditya', 'chiki', 'khusi', 'Nikhil', 'gugu']\n",
            "Aditya\n",
            "gugu\n",
            "['gugu', 'chiki', 'khusi', 'Nikhil', 'gugu']\n",
            "['gugu', 'chiki', 'khusi', 'Nikhil', 'gugu', 'isha']\n",
            "[]\n",
            "['gugu', 'chiki', 'khusi', 'Nikhil', 'gugu', 'isha']\n",
            "2\n",
            "['apple', 'banana', 'cherry', 'Ford', 'BMW', 'Volvo']\n",
            "2\n",
            "['apple', 'banana', 'Mango', 'cherry', 'Ford', 'BMW', 'Volvo']\n",
            "['apple', 'Mango', 'cherry', 'Ford', 'BMW', 'Volvo']\n",
            "['apple', 'cherry', 'Ford', 'BMW', 'Volvo']\n",
            "['Volvo', 'BMW', 'Ford', 'cherry', 'apple']\n",
            "['BMW', 'Ford', 'Volvo', 'apple', 'cherry']\n",
            "[23, 50, 65, 82, 100]\n"
          ]
        }
      ]
    },
    {
      "cell_type": "code",
      "source": [
        "#Dictionary\n",
        "mobile = {\"Brand_name\":\"Apple\",\"price\":1.5 ,\"Model_numeber\":15}\n",
        "print(mobile[\"Brand_name\"])\n",
        "mobile[\"Brand_name\"] = \"Samsung\"\n",
        "print(mobile[\"Brand_name\"])\n",
        "mobile[\"wifi\"] = \"ON\"\n",
        "print(mobile)\n",
        "\n",
        "#item(): The metod returns a view object.The view object contains the key and value  pairs of dictionary as a tuple in alist\n",
        "x = mobile.items()\n",
        "print(x)\n",
        "#keys(): The method return a view of the object .The view conatins the keys of the dictioanty as list\n",
        "Y = mobile.keys()\n",
        "print(Y)\n",
        "#values(): The method return a view of the object .The view conatins the values of the dictioanty as list\n",
        "Z = mobile.values()\n",
        "print(Z)\n",
        "\n",
        "#pop():This method remove item from dict\n",
        "mobile.pop(\"Brand_name\")\n",
        "print(mobile)\n",
        "\n",
        "#popitem(): This method delete the last inserted item in the list\n",
        "mobile.popitem()\n",
        "print(mobile)\n",
        "\n",
        "#clear(): This method clear the dictionary\n",
        "mobile.clear()\n",
        "print(mobile)\n",
        "\n",
        "#copy()\n",
        "car = {\"brand\": \"Ford\",\"model\": \"Mustang\",\"year\": 1964}\n",
        "x = car.copy()\n",
        "print(x)\n",
        "\n",
        "#get() : similar to indexing if we use get we will get value for that key\n",
        "x = car.get(\"model\")\n",
        "print(x)\n",
        "\n",
        "#setdefault : it is simar to get if element is not present it will create it\n",
        "x = car.setdefault(\"model\", \"Bronco\")\n",
        "print(x)\n",
        "y = car.setdefault(\"color\", \"white\")\n",
        "print(y)\n",
        "print(car)\n",
        "\n",
        "#update : This method will append if we update a new value if we do for existing key it will update the value\n",
        "car.update({\"color\": \"White\"})\n",
        "print(car)\n",
        "car.update({\"year\": 2020})\n",
        "print(car)\n",
        "\n",
        "#fromkeys():\n",
        "x = ('key1', 'key2', 'key3')\n",
        "y = 0\n",
        "thisdict = dict.fromkeys(x, y)\n",
        "print(thisdict)\n"
      ],
      "metadata": {
        "colab": {
          "base_uri": "https://localhost:8080/"
        },
        "id": "DAd9eeVyHgc9",
        "outputId": "bb5375ba-6eb6-466b-8191-be7e90fce0e8"
      },
      "execution_count": null,
      "outputs": [
        {
          "output_type": "stream",
          "name": "stdout",
          "text": [
            "Apple\n",
            "Samsung\n",
            "{'Brand_name': 'Samsung', 'price': 1.5, 'Model_numeber': 15, 'wifi': 'ON'}\n",
            "dict_items([('Brand_name', 'Samsung'), ('price', 1.5), ('Model_numeber', 15), ('wifi', 'ON')])\n",
            "dict_keys(['Brand_name', 'price', 'Model_numeber', 'wifi'])\n",
            "dict_values(['Samsung', 1.5, 15, 'ON'])\n",
            "{'price': 1.5, 'Model_numeber': 15, 'wifi': 'ON'}\n",
            "{'price': 1.5, 'Model_numeber': 15}\n",
            "{}\n",
            "{'brand': 'Ford', 'model': 'Mustang', 'year': 1964}\n",
            "Mustang\n",
            "Mustang\n",
            "white\n",
            "{'brand': 'Ford', 'model': 'Mustang', 'year': 1964, 'color': 'white'}\n",
            "{'brand': 'Ford', 'model': 'Mustang', 'year': 1964, 'color': 'White'}\n",
            "{'brand': 'Ford', 'model': 'Mustang', 'year': 2020, 'color': 'White'}\n",
            "{'key1': 0, 'key2': 0, 'key3': 0}\n"
          ]
        }
      ]
    },
    {
      "cell_type": "markdown",
      "source": [
        "Video 25:\n",
        "Tuple"
      ],
      "metadata": {
        "id": "l7tkNIVsEEK7"
      }
    },
    {
      "cell_type": "code",
      "source": [
        "#Tuple is simalr to list and dictionary but we can modify a list and dictionary but we cant able to modify them\n",
        "names = (\"Aditya\",\"chiki\",\"khusi\",\"Nikhil\",\"gugu\")\n",
        "print(names)\n",
        "print(names[0]) #Gets first Elemnet\n",
        "print(names[-1]) # Gets Last elemet\n",
        "\n",
        "#count : Number of times it has occured\n",
        "z = names.count(\"gugu\") #count the number of occurance elements in the list\n",
        "print(z)\n",
        "\n",
        "#index : Find the first occurance\n",
        "x = names.index(\"khusi\")\n",
        "print(x)"
      ],
      "metadata": {
        "colab": {
          "base_uri": "https://localhost:8080/"
        },
        "id": "WZmmmUz3C77D",
        "outputId": "4a545d96-5364-42e1-91e1-4567aa4d767f"
      },
      "execution_count": null,
      "outputs": [
        {
          "output_type": "stream",
          "name": "stdout",
          "text": [
            "('Aditya', 'chiki', 'khusi', 'Nikhil', 'gugu')\n",
            "Aditya\n",
            "gugu\n",
            "1\n",
            "2\n"
          ]
        }
      ]
    },
    {
      "cell_type": "code",
      "source": [
        "# set by deafult is unordered every time you print it you will get different result we use simalr curly braces to it just like dictionary\n",
        "names = {\"Aditya\",\"chiki\",\"khusi\",\"Nikhil\",\"gugu\"}\n",
        "print(names)\n",
        "print(names)\n",
        "names.add(\"isha\") # add() : used to add element in set\n",
        "print(names)\n",
        "x = names.copy() # copy() : used to copy set\n",
        "names.discard(\"khusi\") # discard() : used to remove element in set\n",
        "y =names.difference(x)\n",
        "z = x.difference(names)\n",
        "print(z)\n",
        "print(y)\n",
        "x.difference_update(names) # difference_update() : used to remove element in set which are present in both\n",
        "print(x)\n",
        "print(names)\n",
        "names.remove(\"Aditya\") # remove() : used to remove element in set\n",
        "print(names)\n",
        "names.clear() # clear() : used to clear the set\n",
        "print(names)\n",
        "\n",
        "number = {1,2,3,4,5,6,7,8,9,10,\"BMW\"}\n",
        "cars = {\"Ford\",\"BMW\",\"Volvo\"}\n",
        "number.difference_update(cars) # it removes item exits in both the set\n",
        "print(number)\n",
        "\n",
        "#discard() :Remove specified item\n",
        "number.discard(1)\n",
        "print(number)\n",
        "\n",
        "#interscrtion(): similar to maths\n",
        "x = number.intersection(cars)\n",
        "print(x)\n",
        "\n",
        "#interscrtion_update():\n",
        "number.intersection_update(cars)\n",
        "print(number)\n",
        "\n",
        "#isdisjoin() : it retuns true or false if intersection present or not\n",
        "z = number.isdisjoint(cars)\n",
        "print(z)\n",
        "\n",
        "#issubset() : it retuns true or false if subset present or not\n",
        "a ={\"a\",\"b\",\"c\"}\n",
        "b = {\"f\",\"e\",\"d\",\"c\",\"b\",\"a\"}\n",
        "z = a.issubset(b)\n",
        "print(z)\n",
        "\n",
        "#issuperset() : it retuns true or false if superset present or not\n",
        "z = b.issuperset(a)\n",
        "print(z)\n",
        "\n",
        "#issuperset() : it retuns true or false if superset present or not\n",
        "z = number.issuperset(cars)\n",
        "print\n",
        "\n",
        "#pop(): it will remove random elememnt from set\n",
        "a.pop()\n",
        "print(a)\n",
        "\n",
        "#remove() : it will remove specified elemnt from the set\n",
        "a.remove(\"b\")\n",
        "print(a)\n",
        "\n",
        "#union(): same as maths\n",
        "w = b.union(a)\n",
        "print(w)\n",
        "\n",
        "#update():\n",
        "a.update(b)\n",
        "print(a)"
      ],
      "metadata": {
        "colab": {
          "base_uri": "https://localhost:8080/"
        },
        "id": "M4pyj8CYE-CF",
        "outputId": "13d3ca00-ff5c-42dc-8bc9-38cbe082ad9c"
      },
      "execution_count": null,
      "outputs": [
        {
          "output_type": "stream",
          "name": "stdout",
          "text": [
            "{'Aditya', 'chiki', 'khusi', 'gugu', 'Nikhil'}\n",
            "{'Aditya', 'chiki', 'khusi', 'gugu', 'Nikhil'}\n",
            "{'isha', 'Aditya', 'chiki', 'khusi', 'gugu', 'Nikhil'}\n",
            "{'khusi'}\n",
            "set()\n",
            "{'khusi'}\n",
            "{'isha', 'Aditya', 'chiki', 'gugu', 'Nikhil'}\n",
            "{'isha', 'chiki', 'gugu', 'Nikhil'}\n",
            "set()\n",
            "{1, 2, 3, 4, 5, 6, 7, 8, 9, 10}\n",
            "{2, 3, 4, 5, 6, 7, 8, 9, 10}\n",
            "set()\n",
            "set()\n",
            "True\n",
            "True\n",
            "True\n",
            "{'b', 'a'}\n",
            "{'a'}\n"
          ]
        }
      ]
    },
    {
      "cell_type": "markdown",
      "source": [
        "video 25: String"
      ],
      "metadata": {
        "id": "PFU_t1Z1-Fkj"
      }
    },
    {
      "cell_type": "code",
      "source": [
        "import random\n",
        "name_string = input(\"Give me everyones name,separated by comma and space.:\")\n",
        "names = name_string.split(\", \")\n",
        "print(names[1])\n",
        "x = random.randint(0,len(names)-1)\n",
        "name = random.choice(names) # we can use this insted\n",
        "print(name)\n",
        "print(f\"{names[x]} is going to buy the meal today\")\n",
        "print(names)"
      ],
      "metadata": {
        "colab": {
          "base_uri": "https://localhost:8080/"
        },
        "id": "u29OH9qEF14D",
        "outputId": "edb9b2f7-aabc-42ec-a179-4d739a66eedd"
      },
      "execution_count": null,
      "outputs": [
        {
          "output_type": "stream",
          "name": "stdout",
          "text": [
            "Give me everyones name,separated by comma and space.:Aditya, somu, chiki\n",
            "somu\n",
            "somu\n",
            "somu is going to buy the meal today\n",
            "['Aditya', 'somu', 'chiki']\n"
          ]
        }
      ]
    },
    {
      "cell_type": "markdown",
      "source": [
        "Video26 : Nested list for loop while loop"
      ],
      "metadata": {
        "id": "63ItVzneI4qq"
      }
    },
    {
      "cell_type": "code",
      "source": [
        "states_in_india = [\"Andhra Pradesh\",\"Arunachal Pradesh\",\"Assam\",\"Bihar\",\"Chhattisgarh\",\"Goa\",\"Gujarat\",\"Haryana\",\"Himachal Pradesh\",\"Jammu\"]\n",
        "print(len(states_in_india))\n",
        "print(states_in_india[0])\n",
        "print(states_in_india[-1])\n",
        "states_in_india.append(\"Jharkhand\")\n",
        "print(states_in_india)\n",
        "\n",
        "#list of list\n",
        "boys = [\"Aditya\" , \"Ram \",\"Laxman\"]\n",
        "girls = [\"chiki\" ,\"khusi\" ,\"Nikhil\"]\n",
        "names = [boys,girls]\n",
        "print(names)"
      ],
      "metadata": {
        "colab": {
          "base_uri": "https://localhost:8080/"
        },
        "id": "bX4wz093JFVD",
        "outputId": "93db8e4b-3857-4a14-d40e-ddae7a23ea8d"
      },
      "execution_count": null,
      "outputs": [
        {
          "output_type": "stream",
          "name": "stdout",
          "text": [
            "10\n",
            "Andhra Pradesh\n",
            "Jammu\n",
            "['Andhra Pradesh', 'Arunachal Pradesh', 'Assam', 'Bihar', 'Chhattisgarh', 'Goa', 'Gujarat', 'Haryana', 'Himachal Pradesh', 'Jammu', 'Jharkhand']\n",
            "[['Aditya', 'Ram ', 'Laxman'], ['chiki', 'khusi', 'Nikhil']]\n"
          ]
        }
      ]
    },
    {
      "cell_type": "code",
      "source": [
        "#for loop\n",
        "boys = [\"Aditya\" , \"Ram \",\"Laxman\"]\n",
        "for name in boys:\n",
        "  print(name)\n",
        "  for z in name:\n",
        "    print(z)\n"
      ],
      "metadata": {
        "colab": {
          "base_uri": "https://localhost:8080/"
        },
        "id": "2BZ-p5osrxGu",
        "outputId": "8dbfa1dd-4e14-4ae6-fffb-49e6771e14d4"
      },
      "execution_count": null,
      "outputs": [
        {
          "output_type": "stream",
          "name": "stdout",
          "text": [
            "Aditya\n",
            "A\n",
            "d\n",
            "i\n",
            "t\n",
            "y\n",
            "a\n",
            "Ram \n",
            "R\n",
            "a\n",
            "m\n",
            " \n",
            "Laxman\n",
            "L\n",
            "a\n",
            "x\n",
            "m\n",
            "a\n",
            "n\n"
          ]
        }
      ]
    },
    {
      "cell_type": "code",
      "source": [
        "#break - with this we can stop the loop in between\n",
        "boys = [\"Aditya\" , \"Ram \",\"Laxman\"]\n",
        "for name in boys:\n",
        "  if name == \"Ram \":\n",
        "    break\n",
        "  print(name)\n",
        "# continue - it will print other than that varibale\n",
        "boys = [\"Aditya\" , \"Ram \",\"Laxman\"]\n",
        "for name in boys:\n",
        "  if name == \"Ram \":\n",
        "    continue\n",
        "  print(name)\n",
        "#range () - to take a range\n",
        "for x in range(6):\n",
        "  print(x)\n",
        "for x in range(2,6):\n",
        "  print(x)\n",
        "# use step paramete it will like i+ in c\n",
        "for x in range(2,30,3):\n",
        "  print(x)\n",
        "#else in for loop - we can use else in for loop as we use it in if condtion\n",
        "for x in range(6):\n",
        "  print(x)\n",
        "else:\n",
        "  print(\"Finally finished\")\n",
        "\n",
        "#else block will be not exicuted if we use break statement in loop\n",
        "for x in range(6):\n",
        "  if x == 3:\n",
        "    break\n",
        "  print(x)\n",
        "else:\n",
        "  print(\"Finally finished\")\n",
        "\n",
        "#Nested loop\n",
        "boys = [\"Aditya\" , \"Ram \",\"Laxman\"]\n",
        "girls = [\"chiki\" ,\"khusi\" ,\"Nikhil\"]\n",
        "for x in boys:\n",
        "  for y in girls:\n",
        "    print(x,y)\n",
        "#pass - we cant have empty for loop if we want it for some reasin loop with no content put pass\n",
        "for x in boys:\n",
        "  pass"
      ],
      "metadata": {
        "colab": {
          "base_uri": "https://localhost:8080/"
        },
        "id": "XXUrHEJzyhU3",
        "outputId": "8954f8b1-a3f2-4e8a-90e4-2fc62a4738a3"
      },
      "execution_count": null,
      "outputs": [
        {
          "output_type": "stream",
          "name": "stdout",
          "text": [
            "Aditya\n",
            "Aditya\n",
            "Laxman\n",
            "0\n",
            "1\n",
            "2\n",
            "3\n",
            "4\n",
            "5\n",
            "2\n",
            "3\n",
            "4\n",
            "5\n",
            "2\n",
            "5\n",
            "8\n",
            "11\n",
            "14\n",
            "17\n",
            "20\n",
            "23\n",
            "26\n",
            "29\n",
            "0\n",
            "1\n",
            "2\n",
            "3\n",
            "4\n",
            "5\n",
            "Finally finished\n",
            "0\n",
            "1\n",
            "2\n",
            "Aditya chiki\n",
            "Aditya khusi\n",
            "Aditya Nikhil\n",
            "Ram  chiki\n",
            "Ram  khusi\n",
            "Ram  Nikhil\n",
            "Laxman chiki\n",
            "Laxman khusi\n",
            "Laxman Nikhil\n"
          ]
        }
      ]
    },
    {
      "cell_type": "code",
      "source": [
        "#while loop\n",
        "i = 1\n",
        "while i <= 6:\n",
        "  print(i)\n",
        "  i += 1\n",
        "#break\n",
        "i = 1\n",
        "while i < 6:\n",
        "  print(i)\n",
        "  if i == 3:\n",
        "    break\n",
        "  i += 1\n",
        "#continue\n",
        "i = 0\n",
        "while i < 6:\n",
        "  i += 1 # put this before continue other wise we will end up in infinite loop\n",
        "  if i == 3:\n",
        "    continue\n",
        "  print(i)\n",
        "#else\n",
        "i = 1\n",
        "while i < 6:\n",
        "  print(i)\n",
        "  i += 1\n",
        "else:\n",
        "  print(\"i is no longer less than 6\")\n",
        "# if we use break then else will not be exicuted\n",
        "i = 1\n",
        "while i < 6:\n",
        "  if i == 3:\n",
        "    break\n",
        "  print(i)\n",
        "  i += 1\n",
        "else:\n",
        "  print(\"i is no longer less than 6\")\n"
      ],
      "metadata": {
        "colab": {
          "base_uri": "https://localhost:8080/"
        },
        "id": "pXyYDSKaWOLv",
        "outputId": "b5772181-d489-4059-ac62-12c0aac9149f"
      },
      "execution_count": null,
      "outputs": [
        {
          "output_type": "stream",
          "name": "stdout",
          "text": [
            "1\n",
            "2\n",
            "3\n",
            "4\n",
            "5\n",
            "6\n",
            "1\n",
            "2\n",
            "3\n",
            "1\n",
            "2\n",
            "4\n",
            "5\n",
            "6\n"
          ]
        }
      ]
    },
    {
      "cell_type": "markdown",
      "source": [
        "Video 27:Student avg height"
      ],
      "metadata": {
        "id": "Sf4cfeXQXJWe"
      }
    },
    {
      "cell_type": "code",
      "source": [
        "student_heights = input(\"Input a list of student heights \").split()\n",
        "for n in range(0, len(student_heights)):\n",
        "  student_heights[n] = int(student_heights[n])\n",
        "print(student_heights)\n",
        "total_sum = sum(student_heights)\n",
        "ttoatal_len = len(student_heights)\n",
        "avg = round(total_sum/ttoatal_len)\n",
        "print(avg)\n",
        "#use loop to find avg\n",
        "total_height = 0\n",
        "for height in student_heights:\n",
        "  total_height += height\n",
        "print(total_height)\n",
        "number_of_students = 0\n",
        "for student in student_heights:\n",
        "  number_of_students += 1\n",
        "print(number_of_students)\n",
        "average_height = round(total_height / number_of_students)\n",
        "print(average_height)\n",
        "\n",
        "#we can combine both the for loop insted of writting separately\n",
        "total_height = 0\n",
        "number_of_students = 0\n",
        "for height in student_heights:\n",
        "  total_height += height\n",
        "  number_of_students += 1\n",
        "print(number_of_students)\n",
        "print(total_height)\n",
        "average_height = round(total_height / number_of_students)\n",
        "print(average_height)\n",
        "\n"
      ],
      "metadata": {
        "colab": {
          "base_uri": "https://localhost:8080/"
        },
        "id": "pEW1y8X5XI9r",
        "outputId": "8b9c5afc-a3da-460e-c1ef-53f5e51a6c5e"
      },
      "execution_count": null,
      "outputs": [
        {
          "output_type": "stream",
          "name": "stdout",
          "text": [
            "Input a list of student heights 5 5 6 7\n",
            "[5, 5, 6, 7]\n"
          ]
        }
      ]
    },
    {
      "cell_type": "code",
      "source": [
        "student_marks = input(\"Input a list of student marks \").split()\n",
        "for n in range(0, len(student_marks)):\n",
        "  student_marks[n] =int(student_marks[n])\n",
        "print(student_marks)\n",
        "print(max(student_marks))\n",
        "print(min(student_marks))\n",
        "#without using inbuilt functions\n",
        "highest_score = 0\n",
        "for score in student_marks:\n",
        "  if score > highest_score:\n",
        "    highest_score = score\n",
        "print(f\"The highest score in the class is: {highest_score}\")"
      ],
      "metadata": {
        "colab": {
          "base_uri": "https://localhost:8080/"
        },
        "id": "LieaTYCMg5KP",
        "outputId": "248c6940-8672-4791-9e9a-1030b061ebcb"
      },
      "execution_count": null,
      "outputs": [
        {
          "output_type": "stream",
          "name": "stdout",
          "text": [
            "Input a list of student marks 55 66 77 78\n",
            "[55, 66, 77, 78]\n",
            "78\n",
            "55\n",
            "The highest score in the class is: 78\n"
          ]
        }
      ]
    },
    {
      "cell_type": "markdown",
      "source": [
        "Video:28"
      ],
      "metadata": {
        "id": "fUhlnhX8iDEY"
      }
    },
    {
      "cell_type": "code",
      "source": [
        "#Sum of all even number in range 100\n",
        "total = 0\n",
        "for i in range (1,101):\n",
        "  if i%2 == 0:\n",
        "         total +=i\n",
        "print(total)\n",
        "\n",
        "#use step function\n",
        "total2 = 0\n",
        "for i in range (2,101,2):\n",
        "         total2 +=i\n",
        "print(total2)"
      ],
      "metadata": {
        "colab": {
          "base_uri": "https://localhost:8080/"
        },
        "id": "CK1Gi9z1iFy4",
        "outputId": "05756379-008a-4d42-b52d-bbefe96f80a4"
      },
      "execution_count": null,
      "outputs": [
        {
          "output_type": "stream",
          "name": "stdout",
          "text": [
            "2550\n",
            "2550\n"
          ]
        }
      ]
    },
    {
      "cell_type": "code",
      "source": [
        "for i in range(1,101):\n",
        "  if i%3 ==0 and i%5 ==0:\n",
        "    print(\"fizzbuzz\")\n",
        "  elif i%3 ==0:\n",
        "    print(\"fizz\")\n",
        "  elif i%5 ==0:\n",
        "    print(\"buzz\")\n",
        "  else:\n",
        "    print(i)"
      ],
      "metadata": {
        "colab": {
          "base_uri": "https://localhost:8080/"
        },
        "id": "hRoLJJ6FjR3F",
        "outputId": "e85e1784-36a4-457d-d3d3-af6ab89bd24a"
      },
      "execution_count": null,
      "outputs": [
        {
          "output_type": "stream",
          "name": "stdout",
          "text": [
            "fizz\n",
            "buzz\n",
            "fizz\n",
            "fizz\n",
            "buzz\n",
            "fizz\n",
            "fizzbuzz\n",
            "fizz\n",
            "buzz\n",
            "fizz\n",
            "fizz\n",
            "buzz\n",
            "fizz\n",
            "fizzbuzz\n",
            "fizz\n",
            "buzz\n",
            "fizz\n",
            "fizz\n",
            "buzz\n",
            "fizz\n",
            "fizzbuzz\n",
            "fizz\n",
            "buzz\n",
            "fizz\n",
            "fizz\n",
            "buzz\n",
            "fizz\n",
            "fizzbuzz\n",
            "fizz\n",
            "buzz\n",
            "fizz\n",
            "fizz\n",
            "buzz\n",
            "fizz\n",
            "fizzbuzz\n",
            "fizz\n",
            "buzz\n",
            "fizz\n",
            "fizz\n",
            "buzz\n",
            "fizz\n",
            "fizzbuzz\n",
            "fizz\n",
            "buzz\n",
            "fizz\n",
            "fizz\n",
            "buzz\n"
          ]
        }
      ]
    },
    {
      "cell_type": "code",
      "source": [
        "#password using python\n",
        "letters = ['a', 'b', 'c','d', 'e', 'f','g', 'h', 'i', 'j', 'k', 'l', 'm', 'n', 'o', 'p', 'q', 'r', 's', 't', 'u', 'v', 'w', 'x', 'y', 'z',]\n",
        "numbers = ['0', '1', '2', '3', '4', '5', '6', '7', '8', '9']\n",
        "symbols = ['!', '#', '$', '%', '&', '(', ')', '*', '+']\n",
        "print(\"Welcome to the PyPassword Generator!\")\n",
        "import random\n",
        "\n",
        "nr_letters= int(input(\"How many letters would you like in your password?\\n\"))\n",
        "nr_symbols = int(input(f\"How many symbols would you like?\\n\"))\n",
        "nr_numbers = int(input(f\"How many numbers would you like?\\n\"))\n",
        "#easy level password\n",
        "password = \"\"\n",
        "for i in range(1,nr_letters+1):\n",
        "  password += random.choice(letters)\n",
        "  print(password)\n",
        "for i in range(1,nr_symbols+1):\n",
        "  password += random.choice(symbols)\n",
        "  print(password)\n",
        "for i in range(1,nr_numbers+1):\n",
        "  password += random.choice(numbers)\n",
        "  print(password)\n",
        "print(password)\n",
        "\n",
        "\n",
        "#Hard level password\n",
        "passowrd_list = []\n",
        "for i in range(1,nr_letters+1):\n",
        "  passowrd_list += random.choice(letters)\n",
        "  print(passowrd_list)\n",
        "for i in range(1,nr_symbols+1):\n",
        "  passowrd_list += random.choice(symbols)\n",
        "  print(passowrd_list)\n",
        "for i in range(1,nr_numbers+1):\n",
        "  passowrd_list += random.choice(numbers)\n",
        "  print(passowrd_list)\n",
        "random.shuffle(passowrd_list)\n",
        "#convert list to string\n",
        "print(passowrd_list)\n",
        "new_pass = \"\"\n",
        "for i in passowrd_list:\n",
        "  new_pass += i\n",
        "print(new_pass)"
      ],
      "metadata": {
        "colab": {
          "base_uri": "https://localhost:8080/"
        },
        "id": "zhoIbcw6mQOb",
        "outputId": "74c2deeb-abd5-44e4-8b0d-0cb5ce1398c4"
      },
      "execution_count": null,
      "outputs": [
        {
          "output_type": "stream",
          "name": "stdout",
          "text": [
            "Welcome to the PyPassword Generator!\n",
            "How many letters would you like in your password?\n",
            "2\n",
            "How many symbols would you like?\n",
            "2\n",
            "How many numbers would you like?\n",
            "2\n",
            "i\n",
            "ij\n",
            "ij)\n",
            "ij)(\n",
            "ij)(1\n",
            "ij)(12\n",
            "ij)(12\n",
            "['q']\n",
            "['q', 'r']\n",
            "['q', 'r', '+']\n",
            "['q', 'r', '+', '%']\n",
            "['q', 'r', '+', '%', '6']\n",
            "['q', 'r', '+', '%', '6', '6']\n",
            "['q', '+', '6', 'r', '6', '%']\n",
            "q+6r6%\n"
          ]
        }
      ]
    },
    {
      "cell_type": "markdown",
      "source": [
        "Video 29:\n",
        "Functions\n"
      ],
      "metadata": {
        "id": "jSsUEE53pBVe"
      }
    },
    {
      "cell_type": "code",
      "source": [
        "def greet():\n",
        "  print(\"Hello\")\n",
        "  print(\"How do you do\")\n",
        "  print(\"Isn't the weather nice today\")\n",
        "greet()"
      ],
      "metadata": {
        "colab": {
          "base_uri": "https://localhost:8080/"
        },
        "id": "OtDhd3dBpFH6",
        "outputId": "7df47d67-6999-4353-f8f0-71cb6f807e98"
      },
      "execution_count": null,
      "outputs": [
        {
          "output_type": "stream",
          "name": "stdout",
          "text": [
            "Hello\n",
            "How do you do\n",
            "Isn't the weather nice today\n"
          ]
        }
      ]
    },
    {
      "cell_type": "code",
      "source": [
        "#Informatoion can be passed to function using arguments\n",
        "def greet_with_name(name):\n",
        "  print(f\"Hello {name}\")\n",
        "  print(f\"How do you do {name}\")\n",
        "greet_with_name(\"Aditya\")\n",
        "greet_with_name(\"Nikhil\")"
      ],
      "metadata": {
        "colab": {
          "base_uri": "https://localhost:8080/"
        },
        "id": "fAE6fqbXpr3j",
        "outputId": "29f64145-4726-4e53-8bfc-9cfdac8ecda9"
      },
      "execution_count": null,
      "outputs": [
        {
          "output_type": "stream",
          "name": "stdout",
          "text": [
            "Hello Aditya\n",
            "How do you do Aditya\n",
            "Hello Nikhil\n",
            "How do you do Nikhil\n"
          ]
        }
      ]
    },
    {
      "cell_type": "code",
      "source": [
        "#By default we need to call fucntion with correct number of arguments\n",
        "def greet_with(name,location):\n",
        "  print(f\"Hello {name}\")\n",
        "  print(f\"What is it like in {location}\")\n",
        "greet_with(\"Aditya\",\"Mumbai\")\n",
        "greet_with(location=\"Mumbai\",name=\"Aditya\")"
      ],
      "metadata": {
        "colab": {
          "base_uri": "https://localhost:8080/"
        },
        "id": "0icz8CRoqDqj",
        "outputId": "59d4d5e4-e8f5-42f3-a0cd-5fa13ffe6f97"
      },
      "execution_count": null,
      "outputs": [
        {
          "output_type": "stream",
          "name": "stdout",
          "text": [
            "Hello Aditya\n",
            "What is it like in Mumbai\n",
            "Hello Aditya\n",
            "What is it like in Mumbai\n"
          ]
        }
      ]
    },
    {
      "cell_type": "code",
      "source": [
        "#Arbitrary arguments *args\n",
        "def my_function(*kids):\n",
        "  print(\"The youngest child is \" + kids[2])\n",
        "my_function(\"Emil\", \"Tobias\", \"Linus\")\n",
        "#Keyword arguments\n",
        "def my_function(child3, child2, child1):\n",
        "  print(\"The youngest child is \" + child3)\n",
        "my_function(child1 = \"Emil\", child2 = \"Tobias\", child3 = \"Linus\")\n",
        "#Arbitrary key word argument **args\n",
        "def my_function(**kid):\n",
        "  print(\"His last name is \" + kid[\"lname\"])\n",
        "my_function(fname = \"Tobias\", lname = \"Refsnes\")"
      ],
      "metadata": {
        "id": "2ouG_ofcqix4"
      },
      "execution_count": null,
      "outputs": []
    },
    {
      "cell_type": "code",
      "source": [
        "#Default parameter\n",
        "def my_function(country = \"Norway\"):\n",
        "  print(\"I am from \" + country)\n",
        "my_function(\"Sweden\")\n",
        "my_function(\"India\")\n",
        "my_function()\n",
        "my_function(\"Brazil\")"
      ],
      "metadata": {
        "colab": {
          "base_uri": "https://localhost:8080/"
        },
        "id": "XhrCa1yUrbL9",
        "outputId": "d5e13bfe-2532-4268-b8c3-5c413578cd15"
      },
      "execution_count": null,
      "outputs": [
        {
          "output_type": "stream",
          "name": "stdout",
          "text": [
            "I am from Sweden\n",
            "I am from India\n",
            "I am from Norway\n",
            "I am from Brazil\n"
          ]
        }
      ]
    },
    {
      "cell_type": "code",
      "source": [
        "#passing list as a argument\n",
        "def my_function(food):\n",
        "  for x in food:\n",
        "    print(x)\n",
        "fruits = [\"apple\", \"banana\", \"cherry\"]\n",
        "my_function(fruits)\n"
      ],
      "metadata": {
        "colab": {
          "base_uri": "https://localhost:8080/"
        },
        "id": "FHi3BXzyrlWi",
        "outputId": "a8329269-5471-4a69-cce1-fc9f5a2b4cb9"
      },
      "execution_count": null,
      "outputs": [
        {
          "output_type": "stream",
          "name": "stdout",
          "text": [
            "apple\n",
            "banana\n",
            "cherry\n"
          ]
        }
      ]
    },
    {
      "cell_type": "code",
      "source": [
        "#return statement in python\n",
        "def my_function(x):\n",
        "  return 5 * x\n",
        "print(my_function(3))\n",
        "print(my_function(5))\n",
        "print(my_function(9))\n",
        "\n",
        "#pass key word in function\n",
        "def myfunction():\n",
        "  pass"
      ],
      "metadata": {
        "id": "fOnRTDl0r7FX"
      },
      "execution_count": null,
      "outputs": []
    },
    {
      "cell_type": "code",
      "source": [
        "#how many paint bottle needed to paint the wall\n",
        "import math\n",
        "test_h = int(input(\"Height of wall: \"))\n",
        "test_w = int(input(\"Width of wall: \"))\n",
        "coverage = 5\n",
        "def paint_calc(height,width,coverage):\n",
        "  area = height * width\n",
        "  can = area / coverage\n",
        "  print(f\"You'll need {math.ceil(can)} cans of paint.\")\n",
        "paint_calc(height=test_h, width=test_w, coverage=coverage)\n"
      ],
      "metadata": {
        "colab": {
          "base_uri": "https://localhost:8080/"
        },
        "id": "MGTJEpe0swVX",
        "outputId": "166c96df-3575-4952-c959-5da78d1e59cf"
      },
      "execution_count": null,
      "outputs": [
        {
          "output_type": "stream",
          "name": "stdout",
          "text": [
            "Height of wall: 3\n",
            "Width of wall: 5\n",
            "You'll need 3 cans of paint.\n"
          ]
        }
      ]
    },
    {
      "cell_type": "code",
      "source": [
        "#Check Number is prime or not\n",
        "n = int(input(\"Enter an number:\"))\n",
        "def prime_checker(number):\n",
        "  is_prime =True\n",
        "  for i in range(2,number):\n",
        "    if number%i ==0:\n",
        "      is_prime = False\n",
        "  print(is_prime)\n",
        "  if is_prime:\n",
        "    print(\"It's a prime number\")\n",
        "  else:\n",
        "    print(\"It's not a prime number\")\n",
        "prime_checker(number=n)\n"
      ],
      "metadata": {
        "colab": {
          "base_uri": "https://localhost:8080/"
        },
        "id": "hGh--qcAuGA1",
        "outputId": "d6d1eb08-7703-4258-b3ba-51edf3f214d8"
      },
      "execution_count": null,
      "outputs": [
        {
          "output_type": "stream",
          "name": "stdout",
          "text": [
            "Enter an number:4\n",
            "False\n",
            "It's not a prime number\n"
          ]
        }
      ]
    },
    {
      "cell_type": "markdown",
      "source": [
        "Video 30: Ceasar chipher"
      ],
      "metadata": {
        "id": "XGNIyVlIv5Rx"
      }
    },
    {
      "cell_type": "code",
      "source": [
        "\n",
        "letters = ['a', 'b', 'c','d', 'e', 'f','g', 'h', 'i', 'j', 'k', 'l', 'm', 'n', 'o', 'p', 'q', 'r', 's', 't', 'u', 'v', 'w', 'x', 'y', 'z']\n",
        "direction = input(\"Type 'encode' to encrypt and type 'decode' to dycrypt\")\n",
        "text = input(\"Type your message\").lower()\n",
        "shift = int(input(\"Type the shift number\"))\n",
        "shift = shift % 26\n",
        "def encrypt(plain_text,shift_amount):\n",
        "  cipher_text = \"\"\n",
        "  for letter in plain_text:\n",
        "    position = letters.index(letter)\n",
        "    new_position = position + shift_amount\n",
        "    new_letter = letters[new_position]\n",
        "    cipher_text += new_letter\n",
        "  print(f\"The encoded text is {cipher_text}\")\n",
        "encrypt(plain_text=text,shift_amount=shift)\n",
        "#decryption\n",
        "def dycrypt(cipher_text,shift_amount):\n",
        "  plain_text = \"\"\n",
        "  for letter in cipher_text:\n",
        "    position = letters.index(letter)\n",
        "    new_position = position -shift_amount\n",
        "    new_letter = letters[new_position]\n",
        "    plain_text += new_letter\n",
        "  print(f\"The decoded text is {plain_text}\")\n",
        "def caesar(start_text,shift_amount,cipher_direction):\n",
        "  end_text = \"\"\n",
        "  for letter in start_text:\n",
        "    position = letters.index(letter)\n",
        "    if direction == \"decode\":\n",
        "      new_position = position -shift_amount\n",
        "      new_letter = letters[new_position]\n",
        "      end_text += new_letter\n",
        "    else:\n",
        "      new_position = position + shift_amount\n",
        "      new_letter = letters[new_position]\n",
        "      end_text += new_letter\n",
        "  print(f\"The {direction}d text is {end_text}\")\n",
        "caesar(start_text=text,shift_amount=shift,cipher_direction=direction)\n",
        "if direction == \"decode\":\n",
        "  dycrypt(cipher_text=text,shift_amount=shift)\n",
        "else:\n",
        "  encrypt(plain_text=text,shift_amount=shift)\n",
        "#"
      ],
      "metadata": {
        "colab": {
          "base_uri": "https://localhost:8080/"
        },
        "id": "HXBsegN-wMFs",
        "outputId": "c8902f52-f565-496a-ac97-41fcacc50ae7"
      },
      "execution_count": null,
      "outputs": [
        {
          "output_type": "stream",
          "name": "stdout",
          "text": [
            "Type 'encode' to encrypt and type 'decode' to dycryptdecod\n",
            "Type your messageabcd\n",
            "Type the shift number3\n",
            "The encoded text is defg\n",
            "The decodd text is defg\n",
            "The encoded text is defg\n"
          ]
        }
      ]
    },
    {
      "cell_type": "markdown",
      "source": [
        "Video31:"
      ],
      "metadata": {
        "id": "nBcmAvg_3YM_"
      }
    },
    {
      "cell_type": "code",
      "source": [
        "student_scores = {\n",
        "  \"Harry\": 81,\n",
        "  \"Ron\": 78,\n",
        "  \"Hermione\": 99,\n",
        "  \"Draco\": 74,\n",
        "  \"Neville\": 62,\n",
        "}\n",
        "student_grades = {}\n",
        "for student in student_scores:\n",
        "  score = student_scores[student]\n",
        "  if score > 90:\n",
        "    student_grades[student] = \"Outstanding\"\n",
        "  elif score > 80:\n",
        "    student_grades[student] = \"Exceeds Expectations\"\n",
        "  elif score > 70:\n",
        "    student_grades[student] = \"Acceptable\"\n",
        "  else:\n",
        "    student_grades[student] = \"Fail\"\n",
        "print(student_grades)\n"
      ],
      "metadata": {
        "colab": {
          "base_uri": "https://localhost:8080/"
        },
        "id": "ZRR3yp6IC0-F",
        "outputId": "467c4aaa-88a3-4b2d-cac2-33b9cd2c9f68"
      },
      "execution_count": null,
      "outputs": [
        {
          "output_type": "stream",
          "name": "stdout",
          "text": [
            "{'Harry': 'Exceeds Expectations', 'Ron': 'Acceptable', 'Hermione': 'Outstanding', 'Draco': 'Acceptable', 'Neville': 'Fail'}\n"
          ]
        }
      ]
    },
    {
      "cell_type": "code",
      "source": [
        "students ={\n",
        "    \"Harry\": 81,\n",
        "  \"Ron\": 78\n",
        "}\n",
        "\n",
        "#list in a dictionary\n",
        "travel_log = {\n",
        "    \"France\": [\"Paris\",\"Lille\",\"Dijon\"],\n",
        "    \"Germany\": [\"Berlin\",\"Hamburg\",\"Stuttgart\"]\n",
        "}\n",
        "\n",
        "#Dictionary in a dictionary\n",
        "travel_log = {\n",
        "    \"France\": {\"cities_visited\": [\"Paris\",\"Lille\",\"Dijon\"],\"total_visits\": 12},\n",
        "    \"Germany\": {\"cities_visited\": [\"Berlin\",\"Hamburg\",\"Stuttgart\"],\"total_visits\": 5}\n",
        "}\n",
        "\n",
        "#Dictionary in list\n",
        "student_details = [\n",
        "    {\n",
        "        \"name\": \"Aditya\",\n",
        "        \"age\": 20\n",
        "    },\n",
        "    {\n",
        "        \"name\": \"Nikhil\",\n",
        "        \"age\": 21\n",
        "    }\n",
        "]"
      ],
      "metadata": {
        "id": "HBGnD-KcV7u6"
      },
      "execution_count": null,
      "outputs": []
    },
    {
      "cell_type": "markdown",
      "source": [
        "vIDEO 32\n",
        "Appending dictionary to list"
      ],
      "metadata": {
        "id": "6R-SF2izWnz8"
      }
    },
    {
      "cell_type": "code",
      "source": [
        "student_details = [\n",
        "    {\n",
        "        \"name\": \"Aditya\",\n",
        "        \"age\": 20,\n",
        "        \"marks\":[90,87,81],\n",
        "    },\n",
        "    {\n",
        "        \"name\": \"Nikhil\",\n",
        "        \"age\": 21,\n",
        "        \"marks\":[90,87,81],\n",
        "    }\n",
        "]\n",
        "\n",
        "def add_new_student(name,age,marks):\n",
        "  new_student = {}\n",
        "  new_student[\"name\"] = name\n",
        "  new_student[\"age\"] = age\n",
        "  new_student[\"marks\"] = marks\n",
        "  student_details.append(new_student)\n",
        "add_new_student(\"Aditya\",20,[90,87,81])\n",
        "print(student_details)"
      ],
      "metadata": {
        "colab": {
          "base_uri": "https://localhost:8080/"
        },
        "id": "NjZefD-mWuui",
        "outputId": "b34d01c5-5960-4fc3-ed59-dba0fe69612b"
      },
      "execution_count": null,
      "outputs": [
        {
          "output_type": "stream",
          "name": "stdout",
          "text": [
            "[{'name': 'Aditya', 'age': 20, 'marks': [90, 87, 81]}, {'name': 'Nikhil', 'age': 21, 'marks': [90, 87, 81]}, {'name': 'Aditya', 'age': 20, 'marks': [90, 87, 81]}]\n"
          ]
        }
      ]
    },
    {
      "cell_type": "code",
      "source": [
        "name = input(\"Name of the bidder\")\n",
        "bid = int(input(\"Bid amount\"))\n",
        "bids ={}\n",
        "bids[name] = bid\n",
        "print(bids)"
      ],
      "metadata": {
        "colab": {
          "base_uri": "https://localhost:8080/"
        },
        "id": "2TcymMO2X1Xl",
        "outputId": "ffe9498b-a321-4ee4-f5e0-fa827426f871"
      },
      "execution_count": null,
      "outputs": [
        {
          "output_type": "stream",
          "name": "stdout",
          "text": [
            "Name of the bidderaditya\n",
            "Bid amount20\n",
            "{'aditya': 20}\n"
          ]
        }
      ]
    },
    {
      "cell_type": "code",
      "source": [
        "bids ={}\n",
        "biding_finished = False\n",
        "\n",
        "def find_highest_bidder(bidding_record):\n",
        "  heighest_bid = 0\n",
        "  winner = \"\"\n",
        "  for bidder in bidding_record:\n",
        "    bid_amount = bidding_record[bidder]\n",
        "    if bid_amount > heighest_bid:\n",
        "      heighest_bid = bid_amount\n",
        "      winner = bidder\n",
        "  print(f\"The winner is {winner} with a bid of ${heighest_bid}\")\n",
        "\n",
        "\n",
        "\n",
        "while not biding_finished:\n",
        "  name = input(\"Name of the bidder\")\n",
        "  bid = int(input(\"Bid amount\"))\n",
        "  bids[name] = bid\n",
        "  should_continue = input(\"Are there any other bidders? Type 'yes' or 'no'\")\n",
        "  if should_continue == \"no\":\n",
        "    biding_finished = True\n",
        "    find_highest_bidder(bids)"
      ],
      "metadata": {
        "colab": {
          "base_uri": "https://localhost:8080/"
        },
        "id": "WJy8nAzRaDrs",
        "outputId": "19cfbebd-a107-4785-9b3c-616d84e6bf88"
      },
      "execution_count": null,
      "outputs": [
        {
          "output_type": "stream",
          "name": "stdout",
          "text": [
            "Name of the bidderAditya\n",
            "Bid amount30\n",
            "Are there any other bidders? Type 'yes' or 'no'yes\n",
            "Name of the biddernik\n",
            "Bid amount40\n",
            "Are there any other bidders? Type 'yes' or 'no'no\n",
            "The winner is nik with a bid of $40\n"
          ]
        }
      ]
    },
    {
      "cell_type": "code",
      "source": [
        "year = int(input(\"Which year do you want to check?\"))\n",
        "month = int(input(\"Which month do you want to check?\"))\n",
        "def is_leap(year):\n",
        "  if year % 4 == 0:\n",
        "    if year % 100 == 0:\n",
        "      if year %400 == 0:\n",
        "        return True\n",
        "      else:\n",
        "        return False\n",
        "    else:\n",
        "      return True\n",
        "  else:\n",
        "    return False\n",
        "def days_in_month(year,month):\n",
        "  month_days = [31, 28, 31, 30, 31, 30, 31, 31, 30, 31, 30, 31]\n",
        "  if is_leap(year) and month == 2:\n",
        "    return 29\n",
        "  return month_days[month-1]\n",
        "days = days_in_month(year,month)\n",
        "print(days)"
      ],
      "metadata": {
        "colab": {
          "base_uri": "https://localhost:8080/"
        },
        "id": "t7wk1yS1bprR",
        "outputId": "cced03ad-c06a-457a-b6b1-bc926d66ac77"
      },
      "execution_count": null,
      "outputs": [
        {
          "output_type": "stream",
          "name": "stdout",
          "text": [
            "Which year do you want to check?2024\n",
            "Which month do you want to check?2\n",
            "29\n"
          ]
        }
      ]
    },
    {
      "cell_type": "markdown",
      "source": [
        "video 33;\n",
        "doc string = ctrl +q"
      ],
      "metadata": {
        "id": "eaZrMHcpdGZ9"
      }
    },
    {
      "cell_type": "code",
      "source": [
        "def square(n):\n",
        "  \"\"\"Take in a number n and return the square of n\"\"\"\n",
        "  return n**2\n",
        "print(square(3))"
      ],
      "metadata": {
        "id": "ougp2EJldIoL"
      },
      "execution_count": null,
      "outputs": []
    },
    {
      "cell_type": "code",
      "source": [
        "#Python Scope\n",
        "# A variable is avialbale inside the region it cretaed\n",
        "#Local variabale\n",
        "def drink_potion():\n",
        "  potion_strength = 2\n",
        "  print(potion_strength)\n",
        "drink_potion()\n",
        "print(potion_strength)\n",
        "#Global variable\n",
        "player_health = 10\n",
        "def drink_potion():\n",
        "  potion_strength = 2\n",
        "  print(potion_strength)\n",
        "  print(player_health)\n",
        "drink_potion()\n",
        "#if we want to craete a global variable inside the function we can use gloabl key word\n",
        "def drink_potion():\n",
        "  potion_strength = 2\n",
        "  print(potion_strength)\n",
        "  global player_health\n",
        "  player_health = 2\n",
        "  print(player_health)\n",
        "drink_potion()\n",
        "#we can declare a variable outsie and make it global variable inside the function\n",
        "player_health = 10\n",
        "def drink_potion():\n",
        "  global player_health\n",
        "  player_health = 2\n",
        "  potion_strength = 2\n",
        "  print(potion_strength)\n",
        "  print(player_health)\n",
        "drink_potion()\n",
        "print"
      ],
      "metadata": {
        "id": "kuXwB_3NdlbT"
      },
      "execution_count": null,
      "outputs": []
    },
    {
      "cell_type": "markdown",
      "source": [
        "video 34:\n",
        "Combine dictionary and funtion"
      ],
      "metadata": {
        "id": "pjxN116ye64x"
      }
    },
    {
      "cell_type": "code",
      "source": [
        "\n",
        "#we dont need switch cases here we can do that using dictionary\n",
        "num1 = int(input(\"Enter first number\"))\n",
        "\n",
        "def add (n1,n2):\n",
        "  return n1+n2\n",
        "\n",
        "def sub (n1,n2):\n",
        "  return n1-n2\n",
        "\n",
        "def mul (n1,n2):\n",
        "  return n1*n2\n",
        "\n",
        "def div (n1,n2):\n",
        "  return n1/n\n",
        "\n",
        "operations = {\n",
        "  \"+\": add,\n",
        "  \"-\": sub,\n",
        "  \"*\": mul,\n",
        "  \"/\": div\n",
        "}\n",
        "for symbol in operations:\n",
        "  print(symbol)\n",
        "operation_symbol = input(\"Pick an operation from the line above\")\n",
        "calculation_function = operations[operation_symbol]\n",
        "num2 = int(input(\"Enter second number\"))\n",
        "\n",
        "answer = calculation_function(num1,num2)\n",
        "print(f\"{num1} {operation_symbol} {num2} = {answer}\")\n",
        "\n",
        "\n",
        "operation_symbol = input(\"Pick an operation from the line above\")\n",
        "calculation_function = operations[operation_symbol]\n",
        "num3 = int(input(\"Enter third number\"))\n",
        "\n",
        "answer2 = calculation_function(answer,num3)\n",
        "print(f\"{answer} {operation_symbol} {num3} = {answer2}\")"
      ],
      "metadata": {
        "colab": {
          "base_uri": "https://localhost:8080/"
        },
        "id": "uT29E7nTfDX7",
        "outputId": "9e656ce2-63e0-47d8-8f9f-d5c7bbc26113"
      },
      "execution_count": null,
      "outputs": [
        {
          "output_type": "stream",
          "name": "stdout",
          "text": [
            "Enter first number1\n",
            "+\n",
            "-\n",
            "*\n",
            "/\n",
            "Pick an operation from the line above+\n",
            "Enter second number3\n",
            "1 + 3 = 4\n",
            "Pick an operation from the line above-\n",
            "Enter third number3\n",
            "4 - 3 = 1\n"
          ]
        }
      ]
    },
    {
      "cell_type": "code",
      "source": [
        "#using while loop to do it multiple times\n",
        "num1 = int(input(\"Enter first number\"))\n",
        "\n",
        "def add (n1,n2):\n",
        "  return n1+n2\n",
        "\n",
        "def sub (n1,n2):\n",
        "  return n1-n2\n",
        "\n",
        "def mul (n1,n2):\n",
        "  return n1*n2\n",
        "\n",
        "def div (n1,n2):\n",
        "  return n1/n\n",
        "\n",
        "operations = {\n",
        "  \"+\": add,\n",
        "  \"-\": sub,\n",
        "  \"*\": mul,\n",
        "  \"/\": div\n",
        "}\n",
        "\n",
        "def calculator():\n",
        "  num1 = int(input(\"Enter first number\"))\n",
        "  for symbol in operations:\n",
        "    print(symbol)\n",
        "  should_continue = True\n",
        "  while should_continue:\n",
        "    operation_symbol = input(\"Pick an operation from the line above\")\n",
        "    calculation_function = operations[operation_symbol]\n",
        "    num2 = int(input(\"Enter second number\"))\n",
        "    answer = calculation_function(num1,num2)\n",
        "    print(f\"{num1} {operation_symbol} {num2} = {answer}\")\n",
        "    if input(f\"Type 'y' to continue calculating with {answer}, or type 'n' to start a new calculation\") == 'y':\n",
        "      num1 = answer\n",
        "    else:\n",
        "      should_continue = False\n",
        "      calculator()\n",
        "calculator()\n"
      ],
      "metadata": {
        "id": "rMuf3r53mhXd"
      },
      "execution_count": null,
      "outputs": []
    },
    {
      "cell_type": "code",
      "source": [
        "#Fibonacci series\n",
        "def fibonacci(n):\n",
        "  if(n <= 1):\n",
        "    return n\n",
        "  else:\n",
        "    return(fibonacci(n-1) + fibonacci(n-2))\n",
        "n = int(input(\"Enter number of terms:\"))\n",
        "print(\"Fibonacci sequence:\")\n",
        "for i in range(n):\n",
        "  print(fibonacci(i))"
      ],
      "metadata": {
        "id": "TeaT_M45nq7u"
      },
      "execution_count": null,
      "outputs": []
    },
    {
      "cell_type": "markdown",
      "source": [
        "video 34:\n",
        "scope with example"
      ],
      "metadata": {
        "id": "rNAp7TCzDbJV"
      }
    },
    {
      "cell_type": "code",
      "source": [
        "#There is no block scope in python if we are using for loop block we can acess that out side the loop\n",
        "for i in range(3):\n",
        "  print(i)\n",
        "print(i)\n",
        "\n",
        "#if there is a nested function variable of the inner fuction can be accessed in outer funtion\n",
        "score = 100\n",
        "def a():\n",
        "  def b():\n",
        "    marks = 89\n",
        "    print(score)\n",
        "\n",
        "  b()\n",
        "a()\n",
        "# if a variable is global we can use it inside the fucntion but we cant modify it\n",
        "score = 100\n",
        "def a():\n",
        "  def b():\n",
        "    new_score = score+1\n",
        "    print( new_score)\n",
        "\n",
        "  b()\n",
        "  print(score)\n",
        "a()\n",
        "\n",
        "# if a variable is global we can use it inside the fucntion but we cant modify it ffor that we need to use global key word\n",
        "\n",
        "score = 100\n",
        "def a():\n",
        "  def b():\n",
        "    global score\n",
        "    score += 1\n",
        "    print(score)\n",
        "\n",
        "  b()\n",
        "  print(score)\n",
        "a()"
      ],
      "metadata": {
        "colab": {
          "base_uri": "https://localhost:8080/"
        },
        "id": "nHTwIdKjEbAb",
        "outputId": "b541e53f-689b-4c0c-8d5e-b3edb963474a"
      },
      "execution_count": null,
      "outputs": [
        {
          "output_type": "stream",
          "name": "stdout",
          "text": [
            "0\n",
            "1\n",
            "2\n",
            "2\n",
            "100\n",
            "101\n",
            "100\n",
            "101\n",
            "101\n"
          ]
        }
      ]
    },
    {
      "cell_type": "code",
      "source": [
        "#Global consat for declaring gloabl constant we alaways use capital letters\n",
        "PI = 3.14\n",
        "def a():\n",
        "  print(PI)\n",
        "a()"
      ],
      "metadata": {
        "colab": {
          "base_uri": "https://localhost:8080/"
        },
        "id": "hDPaZvH3G9ij",
        "outputId": "cc463b04-c85f-43c4-9a99-fd288cb2a1bc"
      },
      "execution_count": null,
      "outputs": [
        {
          "output_type": "stream",
          "name": "stdout",
          "text": [
            "3.14\n"
          ]
        }
      ]
    },
    {
      "cell_type": "markdown",
      "source": [
        "Video 36: Guessing the score game"
      ],
      "metadata": {
        "id": "-UdwgxxOHUjG"
      }
    },
    {
      "cell_type": "markdown",
      "source": [
        "video 37 : coffe machine"
      ],
      "metadata": {
        "id": "HxVY7QjVHarr"
      }
    },
    {
      "cell_type": "markdown",
      "source": [
        "Video 38 : oops concept\n",
        "# Attribute are nothing but variables\n",
        "# methods are the funtion of a class"
      ],
      "metadata": {
        "id": "L4tdY016HiBj"
      }
    },
    {
      "cell_type": "code",
      "source": [
        "#python use PascalCase for class name (P and C are capital other are small similarway we can take our class name)\n",
        "class User:\n",
        "  pass\n",
        "user_1 = User()\n",
        "user_1.id = \"001\"\n",
        "user_1.name = \"Aditya\"\n",
        "print(user_1.name)\n",
        "\n",
        "#python use snake_case for methods/functions\n",
        "#everything is an object in python\n",
        "#object is instace of class"
      ],
      "metadata": {
        "id": "SevvXnYlHmJi"
      },
      "execution_count": null,
      "outputs": []
    },
    {
      "cell_type": "code",
      "source": [
        "#Class and constucter\n",
        "class Student:\n",
        "   def __init__(self,name,id,marks):\n",
        "    self.name = name\n",
        "    self.id = id\n",
        "    self.marks =marks\n",
        "   def display_names(self):\n",
        "     print(f\"My name is {self.name}\")\n",
        "\n",
        "s1 = Student(\"Aditya\",1,90)\n",
        "s1.display_names()\n",
        "\n",
        "s2 = Student(\"Nikhil\",2,89)\n",
        "s2.display_names()\n",
        "\n"
      ],
      "metadata": {
        "colab": {
          "base_uri": "https://localhost:8080/"
        },
        "id": "cwA-yKJSMRki",
        "outputId": "3522f8be-1e47-447b-bac6-d16c91ae6bf4"
      },
      "execution_count": null,
      "outputs": [
        {
          "output_type": "stream",
          "name": "stdout",
          "text": [
            "My name is Aditya\n",
            "My name is Nikhil\n"
          ]
        }
      ]
    },
    {
      "cell_type": "markdown",
      "source": [
        "Video 39:\n",
        "Default values for attribute"
      ],
      "metadata": {
        "id": "Ofh_29QrP48K"
      }
    },
    {
      "cell_type": "code",
      "source": [
        "class User:\n",
        "  def __init__(self,user_name,user_id):\n",
        "    self.user_name = user_name\n",
        "    self.user_id = user_id\n",
        "    self.followers =0\n",
        "\n",
        "s1 = User(\"Aditya\",1)\n",
        "print(s1.followers)"
      ],
      "metadata": {
        "colab": {
          "base_uri": "https://localhost:8080/"
        },
        "id": "9VO_lx8tQBLg",
        "outputId": "4228923b-a157-4e0f-be7f-411b71ccdff9"
      },
      "execution_count": null,
      "outputs": [
        {
          "output_type": "stream",
          "name": "stdout",
          "text": [
            "0\n"
          ]
        }
      ]
    },
    {
      "cell_type": "code",
      "source": [],
      "metadata": {
        "id": "aoS-EWEbQnG9"
      },
      "execution_count": null,
      "outputs": []
    },
    {
      "cell_type": "code",
      "source": [
        "class User:\n",
        "  def __init__(self,user_name,user_id):\n",
        "    self.user_name = user_name\n",
        "    self.user_id = user_id\n",
        "    self.followers = 0\n",
        "    self.following = 0\n",
        "  def follow(self,user):\n",
        "    user.followers += 1\n",
        "    self.following += 1\n",
        "\n",
        "s1 = User(\"Aditya\",1)\n",
        "print(s1.followers)\n",
        "\n",
        "s2 = User(\"Nikhil\",2)\n",
        "print(s2.followers)\n",
        "\n",
        "s1.follow(s2)\n",
        "print(s1.followers)\n",
        "print(s1.following)\n",
        "print(s2.followers)\n",
        "print(s2.following)"
      ],
      "metadata": {
        "colab": {
          "base_uri": "https://localhost:8080/"
        },
        "outputId": "79774de6-7f10-46f9-9a1f-28fabbe1007d",
        "id": "-5KhOb_8QqO2"
      },
      "execution_count": null,
      "outputs": [
        {
          "output_type": "stream",
          "name": "stdout",
          "text": [
            "0\n",
            "0\n",
            "0\n",
            "1\n",
            "1\n",
            "0\n"
          ]
        }
      ]
    },
    {
      "cell_type": "code",
      "source": [
        "class Person:\n",
        "  def __init__(self,name,age):\n",
        "    self.name = name\n",
        "    self.age = age\n",
        "  def dispaly_parent(self):\n",
        "    print(\"This is from parent\")\n",
        "    print(f\"My name is {self.name}\")\n",
        "\n",
        "#we can delacre a child class by keeping base class in paranthesis in child class\n",
        "class Employee(Person):\n",
        "  def __init__(self,name,age,id,salary):\n",
        "    super().__init__(name,age) # This is how we are using name and age from the parent super class\n",
        "    self.id = id\n",
        "    self.salary = salary\n",
        "  def display_child(self):\n",
        "    print(\"This is from child\")\n",
        "    print(f\"My name is {self.name}\")\n",
        "\n",
        "emp = Employee(\"Aditya\",20,1,10000)\n",
        "emp.dispaly_parent() # we can call method of parent class from child class\n",
        "emp.display_child()\n"
      ],
      "metadata": {
        "colab": {
          "base_uri": "https://localhost:8080/"
        },
        "id": "9O-xvtKWRx5P",
        "outputId": "bf5f113b-30e0-4ec6-e332-b8f0ea55bfd1"
      },
      "execution_count": null,
      "outputs": [
        {
          "output_type": "stream",
          "name": "stdout",
          "text": [
            "This is from parent\n",
            "My name is Aditya\n",
            "This is from child\n",
            "My name is Aditya\n"
          ]
        }
      ]
    },
    {
      "cell_type": "code",
      "source": [
        "#Polymerprism\n",
        "#same as the above code insted of display parent and child lets keep display only same name in both the class and call it\n",
        "class Person:\n",
        "  def __init__(self,name,age):\n",
        "    self.name = name\n",
        "    self.age = age\n",
        "  def dispaly(self):\n",
        "    print(\"This is from parent\")\n",
        "    print(f\"My name is {self.name}\")\n",
        "\n",
        "#we can delacre a child class by keeping base class in paranthesis in child class\n",
        "class Employee(Person):\n",
        "  def __init__(self,name,age,id,salary):\n",
        "    super().__init__(name,age) # This is how we are using name and age from the parent super class\n",
        "    self.id = id\n",
        "    self.salary = salary\n",
        "  def display(self):\n",
        "    print(\"This is from child\")\n",
        "    print(f\"My name is {self.name}\")\n",
        "\n",
        "emp = Employee(\"Aditya\",20,1,10000)\n",
        "emp.dispaly() # we can call method of parent class from child class\n",
        "emp.display()"
      ],
      "metadata": {
        "colab": {
          "base_uri": "https://localhost:8080/"
        },
        "id": "a_kMqjSIT_eK",
        "outputId": "33f34884-378c-49d9-a62e-60f7de93ddcd"
      },
      "execution_count": null,
      "outputs": [
        {
          "output_type": "stream",
          "name": "stdout",
          "text": [
            "This is from parent\n",
            "My name is Aditya\n",
            "This is from child\n",
            "My name is Aditya\n"
          ]
        }
      ]
    },
    {
      "cell_type": "markdown",
      "source": [
        "video 40:Turtle class"
      ],
      "metadata": {
        "id": "ssEuRt-pUkHo"
      }
    },
    {
      "cell_type": "code",
      "source": [
        "#import turtle package inside that Turtle class is present\n",
        "import turtle\n",
        "\n",
        "tommy = turtle.Turtle()\n",
        "print(tommy)"
      ],
      "metadata": {
        "id": "peTDxAaXUtnX"
      },
      "execution_count": null,
      "outputs": []
    },
    {
      "cell_type": "code",
      "source": [
        "# we can import directly turtle class\n",
        "from turtle import Turtle,Screen\n",
        "tommy = Turtle()\n",
        "print(tommy)\n",
        "tommy.shape(\"turtle\")\n",
        "tommy.color(\"red\")\n",
        "tommy.forward(100)\n",
        "my_screen = Screen()\n",
        "print(my_screen.canvheight)\n",
        "my_screen.exitonclick()"
      ],
      "metadata": {
        "id": "cnlpll6XVIbA"
      },
      "execution_count": null,
      "outputs": []
    },
    {
      "cell_type": "markdown",
      "source": [
        "Video 41:\n",
        "Import nd installing"
      ],
      "metadata": {
        "id": "_3jUlJoeWbg3"
      }
    },
    {
      "cell_type": "code",
      "source": [
        "#if you want to import everything not the specific class the\n",
        "from turtle import *\n",
        "tommy = Turtle()\n",
        "print(tommy)"
      ],
      "metadata": {
        "id": "mj7IRxQeW595"
      },
      "execution_count": null,
      "outputs": []
    },
    {
      "cell_type": "code",
      "source": [
        "#using aliasing\n",
        "from turtle import Turtle as t\n",
        "tommy = t()\n",
        "print(tommy)"
      ],
      "metadata": {
        "id": "Ass-sI5iXMSQ"
      },
      "execution_count": null,
      "outputs": []
    },
    {
      "cell_type": "code",
      "source": [
        "pip install PythonTurtle"
      ],
      "metadata": {
        "colab": {
          "base_uri": "https://localhost:8080/"
        },
        "id": "sh4qukyYWvvI",
        "outputId": "df39f08f-696c-4153-c08a-40dfafe2274e"
      },
      "execution_count": null,
      "outputs": [
        {
          "output_type": "stream",
          "name": "stdout",
          "text": [
            "Collecting PythonTurtle\n",
            "  Downloading PythonTurtle-0.3.2-py3-none-any.whl.metadata (5.1 kB)\n",
            "Downloading PythonTurtle-0.3.2-py3-none-any.whl (518 kB)\n",
            "\u001b[2K   \u001b[90m━━━━━━━━━━━━━━━━━━━━━━━━━━━━━━━━━━━━━━━━\u001b[0m \u001b[32m518.4/518.4 kB\u001b[0m \u001b[31m8.1 MB/s\u001b[0m eta \u001b[36m0:00:00\u001b[0m\n",
            "\u001b[?25hInstalling collected packages: PythonTurtle\n",
            "Successfully installed PythonTurtle-0.3.2\n"
          ]
        }
      ]
    },
    {
      "cell_type": "code",
      "source": [
        "#A function can take other fuction as input insted of values we can take one fucntion as input for another function\n",
        "from turtle import Turtle,Screen\n",
        "tommy = Turtle()\n",
        "screen = Screen()\n",
        "def move_forwards():\n",
        "  tommy.forward(100)\n",
        "screen.listen()\n",
        "screen.onkey(key=\"space\",fun=move_forwards)\n",
        "screen.exitonclick"
      ],
      "metadata": {
        "id": "OMbLurDGXrna"
      },
      "execution_count": null,
      "outputs": []
    },
    {
      "cell_type": "markdown",
      "source": [
        "Video 42: draw a square"
      ],
      "metadata": {
        "id": "AMektL8pYzit"
      }
    },
    {
      "cell_type": "markdown",
      "source": [
        "Video 43 : Turtle racing"
      ],
      "metadata": {
        "id": "-QRU6mQ1Y4xP"
      }
    },
    {
      "cell_type": "markdown",
      "source": [
        "Video 44 : snake game"
      ],
      "metadata": {
        "id": "gYP8jCJ9Y9JR"
      }
    },
    {
      "cell_type": "markdown",
      "source": [
        "Video 45:\n",
        "Inheritance"
      ],
      "metadata": {
        "id": "G5izixNyZF_H"
      }
    },
    {
      "cell_type": "code",
      "source": [
        "class Animal:\n",
        "  def __init__(self):\n",
        "    self.num_eyes = 2\n",
        "  def breathe(self):\n",
        "    print(\"Inhale, Exhale\")\n",
        "class Fish(Animal):\n",
        "  def __init__(self):\n",
        "    super().__init__()\n",
        "  def swim(self):\n",
        "    print(\"Moving in water\")\n",
        "nemo = Fish()\n",
        "nemo.swim()\n",
        "nemo.breathe()\n",
        "print(nemo.num_eyes)"
      ],
      "metadata": {
        "colab": {
          "base_uri": "https://localhost:8080/"
        },
        "id": "fpUkS_WBZMbr",
        "outputId": "40aa0165-7ec6-456b-d0c6-f270a1806784"
      },
      "execution_count": null,
      "outputs": [
        {
          "output_type": "stream",
          "name": "stdout",
          "text": [
            "Moving in water\n",
            "Inhale, Exhale\n"
          ]
        }
      ]
    },
    {
      "cell_type": "code",
      "source": [
        "class Animal:\n",
        "  def __init__(self):\n",
        "    self.num_eyes = 2\n",
        "  def breathe(self):\n",
        "    print(\"Inhale, Exhale\")\n",
        "class Fish(Animal):\n",
        "  def __init__(self):\n",
        "    super().__init__()\n",
        "  def breathe(self):\n",
        "    super().breathe()\n",
        "    print(\"doing this underwater\")\n",
        "  def swim(self):\n",
        "    print(\"Moving in water\")\n",
        "nemo = Fish()\n",
        "nemo.swim()\n",
        "nemo.breathe()\n",
        "print(nemo.num_eyes)"
      ],
      "metadata": {
        "colab": {
          "base_uri": "https://localhost:8080/"
        },
        "id": "xLSImGUObKtZ",
        "outputId": "f47d89e8-095e-438f-c757-181b5c95c7a2"
      },
      "execution_count": null,
      "outputs": [
        {
          "output_type": "stream",
          "name": "stdout",
          "text": [
            "Moving in water\n",
            "Inhale, Exhale\n",
            "doing this underwater\n",
            "2\n"
          ]
        }
      ]
    },
    {
      "cell_type": "markdown",
      "source": [
        "Video 46"
      ],
      "metadata": {
        "id": "p4paexXxbb6e"
      }
    },
    {
      "cell_type": "markdown",
      "source": [
        "Video 47 Slicing"
      ],
      "metadata": {
        "id": "T8G1lXI-bduH"
      }
    },
    {
      "cell_type": "code",
      "source": [
        "#in python we can take list, dict ,tuple and slice them\n",
        "#list[start:end:step]\n",
        "#list slicing\n",
        "L = [1,2,3,4,5,6,7,8,9]\n",
        "print(L[2:5]) # it will start from 2 and go till 4\n",
        "print(L[::2]) # it will step 2 elemets\n",
        "print(L[::-1]) #it will reverse the list\n",
        "\n",
        "#Slice with negative indices\n",
        "print(L[-6:-2])\n",
        "\n",
        "# Slicing with postive and negative indices\n",
        "print(L[2:-2])\n",
        "\n",
        "#step of slicing\n",
        "print(L[2:7:2])\n",
        "#Negative step of slicing\n",
        "print(L[7:2:-2])\n",
        "\n",
        "#slice at begining\n",
        "print(L[:5])\n",
        "\n",
        "#slice at end\n",
        "print(L[2:])"
      ],
      "metadata": {
        "colab": {
          "base_uri": "https://localhost:8080/"
        },
        "id": "nhX78uKqbg0v",
        "outputId": "a7e3361e-115e-44fd-8d19-a1c9268f8811"
      },
      "execution_count": null,
      "outputs": [
        {
          "output_type": "stream",
          "name": "stdout",
          "text": [
            "[3, 4, 5]\n",
            "[1, 3, 5, 7, 9]\n",
            "[9, 8, 7, 6, 5, 4, 3, 2, 1]\n",
            "[4, 5, 6, 7]\n",
            "[3, 4, 5, 6, 7]\n",
            "[3, 5, 7]\n",
            "[8, 6, 4]\n",
            "[1, 2, 3, 4, 5]\n",
            "[3, 4, 5, 6, 7, 8, 9]\n"
          ]
        }
      ]
    },
    {
      "cell_type": "markdown",
      "source": [
        "Video 48"
      ],
      "metadata": {
        "id": "vOcJ9wzRdcry"
      }
    },
    {
      "cell_type": "markdown",
      "source": [
        "Video 49"
      ],
      "metadata": {
        "id": "ACBbWXY7demz"
      }
    },
    {
      "cell_type": "markdown",
      "source": [
        "Video 50"
      ],
      "metadata": {
        "id": "B8551ldYdga4"
      }
    },
    {
      "cell_type": "markdown",
      "source": [
        "Video 51"
      ],
      "metadata": {
        "id": "Ex1SMBaidmJh"
      }
    },
    {
      "cell_type": "markdown",
      "source": [
        "Video 52 : File handing in python"
      ],
      "metadata": {
        "id": "ex7A8gVJdovT"
      }
    },
    {
      "cell_type": "code",
      "source": [
        "file = open(\"my_file.txt\",'r')\n",
        "contents = file.read()\n",
        "print(contents)\n",
        "file.close()\n",
        "\n",
        "file = open(\"my_file.txt\",'w')\n",
        "file.write(\"This is a new line\")\n",
        "file.close()\n",
        "contents = file.read()\n",
        "print(contents)\n",
        "file.close()\n"
      ],
      "metadata": {
        "id": "TZ-DcOVDzH72"
      },
      "execution_count": null,
      "outputs": []
    },
    {
      "cell_type": "code",
      "source": [
        "with open(\"my_file.txt\") as file:\n",
        "  contents = file.readlines()\n",
        "with open(\"letter.txt\") as letter:\n",
        "  contents2 = letter.read()\n",
        "  for name in contents:\n",
        "    contents2 = contents2.replace(\"[name]\",name)\n",
        "    print(contents2)\n",
        "  print(contents)"
      ],
      "metadata": {
        "id": "ZLm15hc-0twu"
      },
      "execution_count": null,
      "outputs": []
    },
    {
      "cell_type": "markdown",
      "source": [
        "Video 53\n",
        "Pandas"
      ],
      "metadata": {
        "id": "RydSU4aM1et8"
      }
    },
    {
      "cell_type": "code",
      "source": [
        "with open(\"weather_data.csv\") as file:\n",
        "  contents = file.readlines()\n",
        "  print(contents)"
      ],
      "metadata": {
        "id": "hCSxMhKS1jCo"
      },
      "execution_count": null,
      "outputs": []
    },
    {
      "cell_type": "code",
      "source": [
        "import csv\n",
        "with open(\"weather_data.csv\") as file:\n",
        "  data = csv.reader(file)\n",
        "  temperatures = []\n",
        "  for row in data:\n",
        "    if row[1] != \"temp\":\n",
        "      temperatures.append(int(row[1]))\n",
        "  print(temperatures)\n"
      ],
      "metadata": {
        "id": "dcRuFvT416vf"
      },
      "execution_count": null,
      "outputs": []
    },
    {
      "cell_type": "code",
      "source": [
        "pip install pandas\n"
      ],
      "metadata": {
        "colab": {
          "base_uri": "https://localhost:8080/"
        },
        "id": "erxz577k2acO",
        "outputId": "1d51a788-1f9f-4e0f-93c0-44e48fd5a953"
      },
      "execution_count": null,
      "outputs": [
        {
          "output_type": "stream",
          "name": "stdout",
          "text": [
            "Requirement already satisfied: pandas in /usr/local/lib/python3.10/dist-packages (2.0.3)\n",
            "Requirement already satisfied: python-dateutil>=2.8.2 in /usr/local/lib/python3.10/dist-packages (from pandas) (2.8.2)\n",
            "Requirement already satisfied: pytz>=2020.1 in /usr/local/lib/python3.10/dist-packages (from pandas) (2024.1)\n",
            "Requirement already satisfied: tzdata>=2022.1 in /usr/local/lib/python3.10/dist-packages (from pandas) (2024.1)\n",
            "Requirement already satisfied: numpy>=1.21.0 in /usr/local/lib/python3.10/dist-packages (from pandas) (1.25.2)\n",
            "Requirement already satisfied: six>=1.5 in /usr/local/lib/python3.10/dist-packages (from python-dateutil>=2.8.2->pandas) (1.16.0)\n"
          ]
        }
      ]
    },
    {
      "cell_type": "code",
      "source": [
        "import pandas\n",
        "\n",
        "data = pandas.read_csv(\"weather_data.csv\")\n",
        "print(data[\"temp\"])"
      ],
      "metadata": {
        "id": "E7akewmc2fpy"
      },
      "execution_count": null,
      "outputs": []
    },
    {
      "cell_type": "markdown",
      "source": [
        "Dataframr: its nothing but a table\n",
        "series : its a column of the table"
      ],
      "metadata": {
        "id": "Tg9MZhfo3Dip"
      }
    },
    {
      "cell_type": "code",
      "source": [
        "data_dict = data.to_dict()\n",
        "print(data_dict)"
      ],
      "metadata": {
        "id": "5WvpKjuy3iVa"
      },
      "execution_count": null,
      "outputs": []
    },
    {
      "cell_type": "code",
      "source": [
        "#Converting lists\n",
        "temp_list = data[\"temp\"].tolist()\n",
        "print(temp_list)\n",
        "print(len(temp_list))"
      ],
      "metadata": {
        "id": "jyfce7_O3rzK"
      },
      "execution_count": null,
      "outputs": []
    },
    {
      "cell_type": "code",
      "source": [
        "#Avergae of temparture\n",
        "average = sum(temp_list)/len(temp_list)\n",
        "print(average)\n",
        "\n",
        "print(data[\"temp\"].mean())\n",
        "print(data[\"temp\"].max())"
      ],
      "metadata": {
        "id": "h64aGlKO35M_"
      },
      "execution_count": null,
      "outputs": []
    },
    {
      "cell_type": "code",
      "source": [
        "#get data in column\n",
        "print(data[\"condition\"])\n",
        "print(data.condition)\n",
        "#get data in row\n",
        "print(data[data.day == \"Monday\"])\n",
        "print(data[data.temp == data.temp.max()])\n"
      ],
      "metadata": {
        "id": "oATlrHY74Nx_"
      },
      "execution_count": null,
      "outputs": []
    },
    {
      "cell_type": "code",
      "source": [
        "#Create data frame from scratch\n",
        "import pandas\n",
        "\n",
        "data_dict = {\n",
        "      \"Students\":[\"Aditya\",\"Nikhil\",\"chiki\"],\n",
        "      \"Scores\":[90,89,99]\n",
        "}\n",
        "data = pandas.DataFrame(data_dict)\n",
        "print(data)\n",
        "data.to_csv(\"new_data.csv\")\n"
      ],
      "metadata": {
        "colab": {
          "base_uri": "https://localhost:8080/"
        },
        "id": "2k4Xpa334rYp",
        "outputId": "4201d1a2-b98e-4a74-bdcf-9acc117a35d3"
      },
      "execution_count": null,
      "outputs": [
        {
          "output_type": "stream",
          "name": "stdout",
          "text": [
            "  Students  Scores\n",
            "0   Aditya      90\n",
            "1   Nikhil      89\n",
            "2    chiki      99\n"
          ]
        }
      ]
    },
    {
      "cell_type": "markdown",
      "source": [
        "video 54:\n"
      ],
      "metadata": {
        "id": "BpVgKDHz7UMu"
      }
    },
    {
      "cell_type": "markdown",
      "source": [
        "Video 55: List comprehnssion"
      ],
      "metadata": {
        "id": "jCcGRVeL7Xql"
      }
    },
    {
      "cell_type": "code",
      "source": [
        "list = [1,2,3,4,5]\n",
        "new_list = []\n",
        "for n in list:\n",
        "  new_list.append(n+1)\n",
        "print(new_list)\n",
        "\n",
        "#List comprehension\n",
        "list = [1,2,3,4,5]\n",
        "new_list = [n+1 for n in list]\n",
        "print(new_list)\n",
        "\n",
        "#string in list\n",
        "names = [\"Aditya\",\"Nikhil\",\"chiki\"]\n",
        "new_list = [name.upper() for name in names]\n",
        "print(new_list)\n",
        "\n",
        "#in range\n",
        "range_list = [n*2 for n in range(1,5)]\n",
        "print(range_list)\n",
        "\n",
        "#conditional list comprehension\n",
        "names = [\"Aditya\",\"Nikhil\",\"chiki\"]\n",
        "new_list = [name.upper() for name in names if len(name)>5]\n",
        "print(new_list)\n",
        "\n",
        "#squaring\n",
        "numbers = [1,1,2,3,5,8,13,21,34,55]\n",
        "squared_numbers = [n**2 for n in numbers]\n",
        "print(squared_numbers)\n",
        "\n",
        "#even numbers\n",
        "numbers = [1,1,2,3,5,8,13,21,34,55]\n",
        "even_numbers = [n for n in numbers if n%2==0]\n",
        "print(even_numbers)\n",
        "\n",
        "#odd numbers\n",
        "numbers = [1,1,2,3,5,8,13,21,34,55]\n",
        "odd_numbers = [n for n in numbers if n%2!=0]\n",
        "print(odd_numbers)\n",
        "\n",
        "#interstction of two list using list compreshenssion\n",
        "list1 = [1,2,3,4,5,6]\n",
        "list2 = [1,3,5,7,9,11]\n",
        "new_list = [n for n in list1 if n in list2]\n",
        "print(new_list)\n",
        "\n",
        "#"
      ],
      "metadata": {
        "id": "aAKgQMeN7Nad"
      },
      "execution_count": null,
      "outputs": []
    },
    {
      "cell_type": "markdown",
      "source": [
        "Video 55\n",
        "Dictionary comprrehenssion"
      ],
      "metadata": {
        "id": "U1lvudIn9eSL"
      }
    },
    {
      "cell_type": "code",
      "source": [
        "import random\n",
        "names =[\"Aditya\",\"Nikhil\",\"chiki\"]\n",
        "students_score = {student:random.randint(1,100) for student in names}\n",
        "print(students_score)\n",
        "\n",
        "passed_students = {student:score for (student,score) in students_score.items() if score>=60}\n",
        "print(passed_students)\n",
        "#"
      ],
      "metadata": {
        "colab": {
          "base_uri": "https://localhost:8080/"
        },
        "id": "WjEWxNXH9f6x",
        "outputId": "c179c8ee-023e-428a-c1f3-c9bad387ab5c"
      },
      "execution_count": null,
      "outputs": [
        {
          "output_type": "stream",
          "name": "stdout",
          "text": [
            "{'Aditya': 82, 'Nikhil': 32, 'chiki': 9}\n"
          ]
        }
      ]
    },
    {
      "cell_type": "code",
      "source": [
        "def roman\n",
        "roman = {\n",
        "  \"I\":1,\n",
        "  \"V\":5,\n",
        "  \"X\":10,\n",
        "  \"L\":50,\n",
        "  \"C\":100,\n",
        "  \"D\":500,\n",
        "  \"M\":1000\n",
        "}"
      ],
      "metadata": {
        "id": "1veqcIVBnXGr"
      },
      "execution_count": null,
      "outputs": []
    }
  ]
}