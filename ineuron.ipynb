{
  "nbformat": 4,
  "nbformat_minor": 0,
  "metadata": {
    "colab": {
      "provenance": [],
      "authorship_tag": "ABX9TyPzI8BSE6lKGkzeuc99qYE7",
      "include_colab_link": true
    },
    "kernelspec": {
      "name": "python3",
      "display_name": "Python 3"
    },
    "language_info": {
      "name": "python"
    }
  },
  "cells": [
    {
      "cell_type": "markdown",
      "metadata": {
        "id": "view-in-github",
        "colab_type": "text"
      },
      "source": [
        "<a href=\"https://colab.research.google.com/github/Aditya29051998/Python/blob/main/ineuron.ipynb\" target=\"_parent\"><img src=\"https://colab.research.google.com/assets/colab-badge.svg\" alt=\"Open In Colab\"/></a>"
      ]
    },
    {
      "cell_type": "markdown",
      "source": [
        "Key Word In Python"
      ],
      "metadata": {
        "id": "shByi1NBmvK9"
      }
    },
    {
      "cell_type": "code",
      "source": [
        "aditya = 10"
      ],
      "metadata": {
        "id": "1jzVAhBBWBzA"
      },
      "execution_count": null,
      "outputs": []
    },
    {
      "cell_type": "code",
      "source": [
        "type(aditya)"
      ],
      "metadata": {
        "colab": {
          "base_uri": "https://localhost:8080/"
        },
        "id": "boyoAnvCZvO7",
        "outputId": "adf230f0-ba0b-4151-9fcf-9ec43d93aa45"
      },
      "execution_count": null,
      "outputs": [
        {
          "output_type": "execute_result",
          "data": {
            "text/plain": [
              "int"
            ]
          },
          "metadata": {},
          "execution_count": 2
        }
      ]
    },
    {
      "cell_type": "code",
      "source": [
        "True - True"
      ],
      "metadata": {
        "colab": {
          "base_uri": "https://localhost:8080/"
        },
        "id": "vXcQ4bdDafQX",
        "outputId": "c0cc941c-23dc-4ac0-cb2b-dbb8c28c2fed"
      },
      "execution_count": null,
      "outputs": [
        {
          "output_type": "execute_result",
          "data": {
            "text/plain": [
              "0"
            ]
          },
          "metadata": {},
          "execution_count": 4
        }
      ]
    },
    {
      "cell_type": "code",
      "source": [
        "True / False"
      ],
      "metadata": {
        "colab": {
          "base_uri": "https://localhost:8080/",
          "height": 143
        },
        "id": "lg2VVRNbalii",
        "outputId": "9f5f1ce5-fda1-4149-f572-64a2c0c7ca87"
      },
      "execution_count": null,
      "outputs": [
        {
          "output_type": "error",
          "ename": "ZeroDivisionError",
          "evalue": "division by zero",
          "traceback": [
            "\u001b[0;31m---------------------------------------------------------------------------\u001b[0m",
            "\u001b[0;31mZeroDivisionError\u001b[0m                         Traceback (most recent call last)",
            "\u001b[0;32m<ipython-input-5-f8487d9d0863>\u001b[0m in \u001b[0;36m<cell line: 1>\u001b[0;34m()\u001b[0m\n\u001b[0;32m----> 1\u001b[0;31m \u001b[0;32mTrue\u001b[0m \u001b[0;34m/\u001b[0m \u001b[0;32mFalse\u001b[0m\u001b[0;34m\u001b[0m\u001b[0;34m\u001b[0m\u001b[0m\n\u001b[0m",
            "\u001b[0;31mZeroDivisionError\u001b[0m: division by zero"
          ]
        }
      ]
    },
    {
      "cell_type": "code",
      "source": [
        "True -False"
      ],
      "metadata": {
        "colab": {
          "base_uri": "https://localhost:8080/"
        },
        "id": "PADZmoN9aXb6",
        "outputId": "4d632ce7-6704-454a-cafa-e4eaad8dda28"
      },
      "execution_count": null,
      "outputs": [
        {
          "output_type": "execute_result",
          "data": {
            "text/plain": [
              "1"
            ]
          },
          "metadata": {},
          "execution_count": 3
        }
      ]
    },
    {
      "cell_type": "code",
      "source": [
        "l = [1,2,6,7,\"sudh\" , 45.67 , True]\n",
        "type(l)"
      ],
      "metadata": {
        "colab": {
          "base_uri": "https://localhost:8080/"
        },
        "id": "-i0iqxcOckXY",
        "outputId": "1d00d691-7d1a-49eb-947c-1a935f7e7bdb"
      },
      "execution_count": null,
      "outputs": [
        {
          "output_type": "execute_result",
          "data": {
            "text/plain": [
              "list"
            ]
          },
          "metadata": {},
          "execution_count": 7
        }
      ]
    },
    {
      "cell_type": "code",
      "source": [
        "#Tuple\n",
        "t =( 1,2,3,\"adi\")\n",
        "type(t)"
      ],
      "metadata": {
        "colab": {
          "base_uri": "https://localhost:8080/"
        },
        "id": "1-3P2bgZdXZT",
        "outputId": "022884bb-5892-451f-dd7a-a38bb8a56408"
      },
      "execution_count": null,
      "outputs": [
        {
          "output_type": "execute_result",
          "data": {
            "text/plain": [
              "tuple"
            ]
          },
          "metadata": {},
          "execution_count": 9
        }
      ]
    },
    {
      "cell_type": "code",
      "source": [
        "n = 5+7j\n",
        "type(n)"
      ],
      "metadata": {
        "id": "p-ogkwYxomfe"
      },
      "execution_count": null,
      "outputs": []
    },
    {
      "cell_type": "code",
      "execution_count": null,
      "metadata": {
        "colab": {
          "base_uri": "https://localhost:8080/"
        },
        "id": "owmnoSNvIwec",
        "outputId": "af46788f-4682-4e13-a0e8-b183b23eeddb"
      },
      "outputs": [
        {
          "output_type": "stream",
          "name": "stdout",
          "text": [
            "['False', 'None', 'True', 'and', 'as', 'assert', 'async', 'await', 'break', 'class', 'continue', 'def', 'del', 'elif', 'else', 'except', 'finally', 'for', 'from', 'global', 'if', 'import', 'in', 'is', 'lambda', 'nonlocal', 'not', 'or', 'pass', 'raise', 'return', 'try', 'while', 'with', 'yield']\n"
          ]
        }
      ],
      "source": [
        "# pip install keyword\n",
        "#Loading pakage keyword ino our memory\n",
        "import keyword\n",
        "print(keyword.kwlist)"
      ]
    },
    {
      "cell_type": "code",
      "source": [
        "#None =10\n",
        "#Python is case snesitive\n",
        "none =10\n",
        "print(none)"
      ],
      "metadata": {
        "colab": {
          "base_uri": "https://localhost:8080/"
        },
        "id": "okql6taSnkOn",
        "outputId": "4ee4e7e4-3801-476d-aa42-265e4a388316"
      },
      "execution_count": null,
      "outputs": [
        {
          "output_type": "stream",
          "name": "stdout",
          "text": [
            "10\n"
          ]
        }
      ]
    },
    {
      "cell_type": "code",
      "source": [
        "Class =10\n",
        "Return =5\n",
        "If = \"hello\"\n",
        "Else=3.14\n",
        "print(Class ,Return , If, Else)"
      ],
      "metadata": {
        "colab": {
          "base_uri": "https://localhost:8080/"
        },
        "id": "Gp5vMRwHohim",
        "outputId": "0114a683-997d-421e-9670-bedd8c30292c"
      },
      "execution_count": null,
      "outputs": [
        {
          "output_type": "stream",
          "name": "stdout",
          "text": [
            "10 5 hello 3.14\n"
          ]
        }
      ]
    },
    {
      "cell_type": "markdown",
      "source": [
        "# What is Package and Libraries :it is a box that have many tools.\n",
        "#Math : Addition,Substraction,Multi,Divi"
      ],
      "metadata": {
        "id": "osg5mSmY3UIe"
      }
    },
    {
      "cell_type": "markdown",
      "source": [
        "Identifiers\n",
        "An identifiers is a name given to entities like class,function,variables it can be a combination of uppercase ,lowercase and digits.It shouldnot start with digits"
      ],
      "metadata": {
        "id": "MSSourKpF0qU"
      }
    },
    {
      "cell_type": "code",
      "source": [
        "marks=20\n",
        "Marks=30\n",
        "print(marks)\n",
        "print(Marks)"
      ],
      "metadata": {
        "colab": {
          "base_uri": "https://localhost:8080/"
        },
        "id": "0anCO-gE3edw",
        "outputId": "5e19f37d-4ef6-4d74-a6b6-5b483bcfab8d"
      },
      "execution_count": null,
      "outputs": [
        {
          "output_type": "stream",
          "name": "stdout",
          "text": [
            "20\n",
            "30\n"
          ]
        }
      ]
    },
    {
      "cell_type": "markdown",
      "source": [
        "Comments"
      ],
      "metadata": {
        "id": "JY4Vdd8SInpZ"
      }
    },
    {
      "cell_type": "code",
      "source": [
        "# Add two numbers and we used doc string here we can use method.__doc__ to access the doccumnentation part\n",
        "def add_number(a,b):\n",
        "  \"\"\"\n",
        "  This Function is adding two variables\n",
        "  variables name are a and b\n",
        "  we need to calculate the sum in variable c\n",
        "  parameters :\n",
        "  a(int) : The first variable\n",
        "  b(int) : The second variable\n",
        "  \"\"\"\n",
        "  return a+b\n",
        "print(add_number.__doc__)"
      ],
      "metadata": {
        "id": "J3fgkLmRG93Q",
        "colab": {
          "base_uri": "https://localhost:8080/"
        },
        "outputId": "d638858c-46a2-441a-e6ab-5e85c767ae9e"
      },
      "execution_count": null,
      "outputs": [
        {
          "output_type": "stream",
          "name": "stdout",
          "text": [
            "\n",
            "  This Function is adding two variables \n",
            "  variables name are a and b\n",
            "  we need to calculate the sum in variable c \n",
            "  parameters :\n",
            "  a(int) : The first variable\n",
            "  b(int) : The second variable\n",
            "  \n"
          ]
        }
      ]
    },
    {
      "cell_type": "markdown",
      "source": [
        "Indentation: In python indentation is not jsut for readability ,It is a part of syntax  and used to indiacate a block of code\n",
        "\n",
        "Space Use:  Python uses indentation to define the scope of loops functions ,classes etc.The standard practice is to use four space for each level of indentaion but we can use any number of space as long as as the indentatin is consistent within a block of code.\n",
        "\n",
        "Colon: usually a collon at the end of the line followed by an indentaion code .This is common with structure like if,for,while,def,class etc"
      ],
      "metadata": {
        "id": "iRQwGzkr6hr6"
      }
    },
    {
      "cell_type": "code",
      "source": [
        "if True:\n",
        "print(\"This is true\")"
      ],
      "metadata": {
        "colab": {
          "base_uri": "https://localhost:8080/",
          "height": 141
        },
        "id": "C7R7yU_W7u2V",
        "outputId": "d3440d33-d2a4-4ab1-e093-1e032adce8fc"
      },
      "execution_count": null,
      "outputs": [
        {
          "output_type": "error",
          "ename": "IndentationError",
          "evalue": "expected an indented block after 'if' statement on line 1 (<ipython-input-12-c1f596ba5698>, line 2)",
          "traceback": [
            "\u001b[0;36m  File \u001b[0;32m\"<ipython-input-12-c1f596ba5698>\"\u001b[0;36m, line \u001b[0;32m2\u001b[0m\n\u001b[0;31m    print(\"This is true\")\u001b[0m\n\u001b[0m    ^\u001b[0m\n\u001b[0;31mIndentationError\u001b[0m\u001b[0;31m:\u001b[0m expected an indented block after 'if' statement on line 1\n"
          ]
        }
      ]
    },
    {
      "cell_type": "markdown",
      "source": [
        "Statements: A statement is a python logical instruction that the python interpreter can read execute in general a statemenr performs some action\n",
        " *Python inculudes several types of statements including aaignment condtional looping ETC **bold text**"
      ],
      "metadata": {
        "id": "o7z8MCUh-PJ1"
      }
    },
    {
      "cell_type": "code",
      "source": [
        "# Conditional statement\n",
        "x =2\n",
        "if x > 0:\n",
        "  print(\"Positive Number\")\n"
      ],
      "metadata": {
        "colab": {
          "base_uri": "https://localhost:8080/"
        },
        "id": "Qf5jtt6N8EbH",
        "outputId": "d3f8c0b3-0c76-4104-9284-be0f8d500bb0"
      },
      "execution_count": null,
      "outputs": [
        {
          "output_type": "stream",
          "name": "stdout",
          "text": [
            "Positive Number\n"
          ]
        }
      ]
    },
    {
      "cell_type": "code",
      "source": [
        "#Multiline statement\n",
        "s = 1+2+1+1+2+1+1+2+1+1+2+1+1+2+1+1+2+1+1+2+1+1+2+1+1+2+1+1+2+1+1+2+1+1+2+1+1+2\\\n",
        "    +1+1+2+1+1+2+1+1+2+1+1+2+1+1+2+1+1+2+1+1+2+1+1+2+1+1+2+1+1+2+1+1+2+1+1+2+1+1+2+1+1+2+1+1+2+1+1\n",
        "print(s)"
      ],
      "metadata": {
        "colab": {
          "base_uri": "https://localhost:8080/"
        },
        "id": "G19oVd30_FKi",
        "outputId": "93d7dba0-46f9-4933-c773-4e7b96627b47"
      },
      "execution_count": null,
      "outputs": [
        {
          "output_type": "stream",
          "name": "stdout",
          "text": [
            "113\n"
          ]
        }
      ]
    },
    {
      "cell_type": "markdown",
      "source": [
        "Variables: In python variable  is names  location used to store data in memory.Python supports dynamic typing\n"
      ],
      "metadata": {
        "id": "fmXhCtu2_5a0"
      }
    },
    {
      "cell_type": "code",
      "source": [
        "a = 6.01\n",
        "Name = \"Aditya\"\n",
        "print(Name)\n",
        "print(a)"
      ],
      "metadata": {
        "colab": {
          "base_uri": "https://localhost:8080/"
        },
        "id": "c2g5FyAjEh_u",
        "outputId": "8bd57a6c-c08e-4bc0-e2b6-a2ece5f1fa4f"
      },
      "execution_count": null,
      "outputs": [
        {
          "output_type": "stream",
          "name": "stdout",
          "text": [
            "Aditya\n",
            "6.01\n"
          ]
        }
      ]
    },
    {
      "cell_type": "markdown",
      "source": [
        "List\n",
        " A list in  python is an ordered collection  . List are similar to  array but with additional functonality\n",
        "\n",
        " Mutable : List are Mutable which means elements can be  added  modified  after they are created\n",
        "\n"
      ],
      "metadata": {
        "id": "OuqxdyWf-Hwc"
      }
    },
    {
      "cell_type": "code",
      "source": [
        "Fruits = [\"Apples\" , \" Banans\" , \"Grapes\"]\n",
        "print(Fruits)"
      ],
      "metadata": {
        "colab": {
          "base_uri": "https://localhost:8080/"
        },
        "id": "XzH-5VvxI_-6",
        "outputId": "3326e09f-4ea5-4c62-d31c-6c996d1549fe"
      },
      "execution_count": null,
      "outputs": [
        {
          "output_type": "stream",
          "name": "stdout",
          "text": [
            "['Apples', ' Banans', 'Grapes']\n"
          ]
        }
      ]
    },
    {
      "cell_type": "code",
      "source": [
        "# List are Heterogenious in nature in contains different types of data\n",
        "Hetero_list = [1,\"Alice\" ,[\"Apples\" , \" Banans\" , \"Grapes\"]]\n",
        "print(Hetero_list)"
      ],
      "metadata": {
        "colab": {
          "base_uri": "https://localhost:8080/"
        },
        "id": "JIHJwHFnJQLK",
        "outputId": "844aab0e-3698-43b2-957d-9518a05efa8b"
      },
      "execution_count": null,
      "outputs": [
        {
          "output_type": "stream",
          "name": "stdout",
          "text": [
            "[1, 'Alice', ['Apples', ' Banans', 'Grapes']]\n"
          ]
        }
      ]
    },
    {
      "cell_type": "markdown",
      "source": [
        "Tuples : A tuple in python is similar to list its an"
      ],
      "metadata": {
        "id": "Ht3T7sUbJuXE"
      }
    },
    {
      "cell_type": "code",
      "source": [],
      "metadata": {
        "id": "JRoNp5IOd5D3"
      },
      "execution_count": null,
      "outputs": []
    },
    {
      "cell_type": "markdown",
      "source": [
        "Strings\n"
      ],
      "metadata": {
        "id": "Uu87VAXl_ZYb"
      }
    },
    {
      "cell_type": "code",
      "source": [],
      "metadata": {
        "id": "82xS-MyblmR9"
      },
      "execution_count": null,
      "outputs": []
    }
  ]
}